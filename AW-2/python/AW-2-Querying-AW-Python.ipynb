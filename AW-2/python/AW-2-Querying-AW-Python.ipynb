{
 "cells": [
  {
   "cell_type": "markdown",
   "metadata": {},
   "source": [
    "# AW-2: Querying Adventure Works Database with Python \n",
    "\n",
    "Please see the blog post by the same name at my website <https://dlwhittenbury.github.io/>.\n",
    "\n",
    "Helpful Links: \n",
    "\n",
    "   - Documentation on pyodbc <https://github.com/mkleehammer/pyodbc/wiki>\n",
    "\n",
    "   - Specific information about connecting to SQL Server from Windows <https://github.com/mkleehammer/pyodbc/wiki/Connecting-to-SQL-Server-from-Windows>"
   ]
  },
  {
   "cell_type": "markdown",
   "metadata": {},
   "source": [
    "Import packages "
   ]
  },
  {
   "cell_type": "code",
   "execution_count": 1,
   "metadata": {},
   "outputs": [],
   "source": [
    "import pandas as pd\n",
    "import pyodbc\n",
    "from PIL import Image\n",
    "import io"
   ]
  },
  {
   "cell_type": "markdown",
   "metadata": {},
   "source": [
    "Server and database names "
   ]
  },
  {
   "cell_type": "code",
   "execution_count": 2,
   "metadata": {},
   "outputs": [],
   "source": [
    "server_name = \"DESKTOP-T6KCVJT\"\n",
    "db_name = \"AdventureWorksDW2017\""
   ]
  },
  {
   "cell_type": "markdown",
   "metadata": {},
   "source": [
    "Connect to Adventure Works database "
   ]
  },
  {
   "cell_type": "code",
   "execution_count": 3,
   "metadata": {},
   "outputs": [],
   "source": [
    "connection_str =  'Driver={SQL Server};' + 'Server=' + server_name + \";Database=\" + db_name + \";Trusted_Connection=yes;\""
   ]
  },
  {
   "cell_type": "code",
   "execution_count": 4,
   "metadata": {},
   "outputs": [],
   "source": [
    "conn = pyodbc.connect(connection_str)"
   ]
  },
  {
   "cell_type": "code",
   "execution_count": 5,
   "metadata": {},
   "outputs": [
    {
     "data": {
      "text/plain": [
       "pyodbc.Connection"
      ]
     },
     "execution_count": 5,
     "metadata": {},
     "output_type": "execute_result"
    }
   ],
   "source": [
    "type(conn)"
   ]
  },
  {
   "cell_type": "markdown",
   "metadata": {},
   "source": [
    "Querying the **DimEmployee table** and put it into a pandas dataframe "
   ]
  },
  {
   "cell_type": "code",
   "execution_count": 6,
   "metadata": {},
   "outputs": [],
   "source": [
    "query_1 = \"SELECT * FROM dbo.DimEmployee\""
   ]
  },
  {
   "cell_type": "code",
   "execution_count": 7,
   "metadata": {},
   "outputs": [],
   "source": [
    "df = pd.read_sql(query_1, conn)"
   ]
  },
  {
   "cell_type": "markdown",
   "metadata": {},
   "source": [
    "Get the summary information about the dataframe, e.g., column names, data types etcetera. "
   ]
  },
  {
   "cell_type": "code",
   "execution_count": 8,
   "metadata": {},
   "outputs": [],
   "source": [
    "# help(pd.DataFrame.info)"
   ]
  },
  {
   "cell_type": "code",
   "execution_count": 9,
   "metadata": {},
   "outputs": [
    {
     "name": "stdout",
     "output_type": "stream",
     "text": [
      "<class 'pandas.core.frame.DataFrame'>\n",
      "RangeIndex: 296 entries, 0 to 295\n",
      "Data columns (total 31 columns):\n",
      " #   Column                                Non-Null Count  Dtype  \n",
      "---  ------                                --------------  -----  \n",
      " 0   EmployeeKey                           296 non-null    int64  \n",
      " 1   ParentEmployeeKey                     295 non-null    float64\n",
      " 2   EmployeeNationalIDAlternateKey        296 non-null    object \n",
      " 3   ParentEmployeeNationalIDAlternateKey  0 non-null      object \n",
      " 4   SalesTerritoryKey                     296 non-null    int64  \n",
      " 5   FirstName                             296 non-null    object \n",
      " 6   LastName                              296 non-null    object \n",
      " 7   MiddleName                            283 non-null    object \n",
      " 8   NameStyle                             296 non-null    bool   \n",
      " 9   Title                                 296 non-null    object \n",
      " 10  HireDate                              296 non-null    object \n",
      " 11  BirthDate                             296 non-null    object \n",
      " 12  LoginID                               296 non-null    object \n",
      " 13  EmailAddress                          296 non-null    object \n",
      " 14  Phone                                 296 non-null    object \n",
      " 15  MaritalStatus                         296 non-null    object \n",
      " 16  EmergencyContactName                  296 non-null    object \n",
      " 17  EmergencyContactPhone                 296 non-null    object \n",
      " 18  SalariedFlag                          296 non-null    bool   \n",
      " 19  Gender                                296 non-null    object \n",
      " 20  PayFrequency                          296 non-null    int64  \n",
      " 21  BaseRate                              296 non-null    float64\n",
      " 22  VacationHours                         296 non-null    int64  \n",
      " 23  SickLeaveHours                        296 non-null    int64  \n",
      " 24  CurrentFlag                           296 non-null    bool   \n",
      " 25  SalesPersonFlag                       296 non-null    bool   \n",
      " 26  DepartmentName                        296 non-null    object \n",
      " 27  StartDate                             296 non-null    object \n",
      " 28  EndDate                               6 non-null      object \n",
      " 29  Status                                290 non-null    object \n",
      " 30  EmployeePhoto                         296 non-null    object \n",
      "dtypes: bool(4), float64(2), int64(5), object(20)\n",
      "memory usage: 63.7+ KB\n"
     ]
    }
   ],
   "source": [
    "df.info()"
   ]
  },
  {
   "cell_type": "markdown",
   "metadata": {},
   "source": [
    "Print the first few rows of the **DimEmployee** table "
   ]
  },
  {
   "cell_type": "code",
   "execution_count": 10,
   "metadata": {},
   "outputs": [
    {
     "data": {
      "text/html": [
       "<div>\n",
       "<style scoped>\n",
       "    .dataframe tbody tr th:only-of-type {\n",
       "        vertical-align: middle;\n",
       "    }\n",
       "\n",
       "    .dataframe tbody tr th {\n",
       "        vertical-align: top;\n",
       "    }\n",
       "\n",
       "    .dataframe thead th {\n",
       "        text-align: right;\n",
       "    }\n",
       "</style>\n",
       "<table border=\"1\" class=\"dataframe\">\n",
       "  <thead>\n",
       "    <tr style=\"text-align: right;\">\n",
       "      <th></th>\n",
       "      <th>EmployeeKey</th>\n",
       "      <th>ParentEmployeeKey</th>\n",
       "      <th>EmployeeNationalIDAlternateKey</th>\n",
       "      <th>ParentEmployeeNationalIDAlternateKey</th>\n",
       "      <th>SalesTerritoryKey</th>\n",
       "      <th>FirstName</th>\n",
       "      <th>LastName</th>\n",
       "      <th>MiddleName</th>\n",
       "      <th>NameStyle</th>\n",
       "      <th>Title</th>\n",
       "      <th>...</th>\n",
       "      <th>BaseRate</th>\n",
       "      <th>VacationHours</th>\n",
       "      <th>SickLeaveHours</th>\n",
       "      <th>CurrentFlag</th>\n",
       "      <th>SalesPersonFlag</th>\n",
       "      <th>DepartmentName</th>\n",
       "      <th>StartDate</th>\n",
       "      <th>EndDate</th>\n",
       "      <th>Status</th>\n",
       "      <th>EmployeePhoto</th>\n",
       "    </tr>\n",
       "  </thead>\n",
       "  <tbody>\n",
       "    <tr>\n",
       "      <th>0</th>\n",
       "      <td>1</td>\n",
       "      <td>18.0</td>\n",
       "      <td>14417807</td>\n",
       "      <td>None</td>\n",
       "      <td>11</td>\n",
       "      <td>Guy</td>\n",
       "      <td>Gilbert</td>\n",
       "      <td>R</td>\n",
       "      <td>False</td>\n",
       "      <td>Production Technician - WC60</td>\n",
       "      <td>...</td>\n",
       "      <td>12.4500</td>\n",
       "      <td>21</td>\n",
       "      <td>30</td>\n",
       "      <td>True</td>\n",
       "      <td>False</td>\n",
       "      <td>Production</td>\n",
       "      <td>2006-01-28</td>\n",
       "      <td>None</td>\n",
       "      <td>Current</td>\n",
       "      <td>b'\\xff\\xd8\\xff\\xe0\\x00\\x10JFIF\\x00\\x01\\x01\\x01...</td>\n",
       "    </tr>\n",
       "    <tr>\n",
       "      <th>1</th>\n",
       "      <td>2</td>\n",
       "      <td>7.0</td>\n",
       "      <td>253022876</td>\n",
       "      <td>None</td>\n",
       "      <td>11</td>\n",
       "      <td>Kevin</td>\n",
       "      <td>Brown</td>\n",
       "      <td>F</td>\n",
       "      <td>False</td>\n",
       "      <td>Marketing Assistant</td>\n",
       "      <td>...</td>\n",
       "      <td>13.4615</td>\n",
       "      <td>42</td>\n",
       "      <td>41</td>\n",
       "      <td>True</td>\n",
       "      <td>False</td>\n",
       "      <td>Marketing</td>\n",
       "      <td>2006-08-26</td>\n",
       "      <td>None</td>\n",
       "      <td>Current</td>\n",
       "      <td>b'\\xff\\xd8\\xff\\xe0\\x00\\x10JFIF\\x00\\x01\\x01\\x01...</td>\n",
       "    </tr>\n",
       "    <tr>\n",
       "      <th>2</th>\n",
       "      <td>3</td>\n",
       "      <td>14.0</td>\n",
       "      <td>509647174</td>\n",
       "      <td>None</td>\n",
       "      <td>11</td>\n",
       "      <td>Roberto</td>\n",
       "      <td>Tamburello</td>\n",
       "      <td>None</td>\n",
       "      <td>False</td>\n",
       "      <td>Engineering Manager</td>\n",
       "      <td>...</td>\n",
       "      <td>43.2692</td>\n",
       "      <td>2</td>\n",
       "      <td>21</td>\n",
       "      <td>True</td>\n",
       "      <td>False</td>\n",
       "      <td>Engineering</td>\n",
       "      <td>2007-06-11</td>\n",
       "      <td>None</td>\n",
       "      <td>Current</td>\n",
       "      <td>b'\\xff\\xd8\\xff\\xe0\\x00\\x10JFIF\\x00\\x01\\x01\\x01...</td>\n",
       "    </tr>\n",
       "    <tr>\n",
       "      <th>3</th>\n",
       "      <td>4</td>\n",
       "      <td>3.0</td>\n",
       "      <td>112457891</td>\n",
       "      <td>None</td>\n",
       "      <td>11</td>\n",
       "      <td>Rob</td>\n",
       "      <td>Walters</td>\n",
       "      <td>None</td>\n",
       "      <td>False</td>\n",
       "      <td>Senior Tool Designer</td>\n",
       "      <td>...</td>\n",
       "      <td>29.8462</td>\n",
       "      <td>48</td>\n",
       "      <td>80</td>\n",
       "      <td>True</td>\n",
       "      <td>False</td>\n",
       "      <td>Tool Design</td>\n",
       "      <td>2007-07-05</td>\n",
       "      <td>2009-12-28</td>\n",
       "      <td>None</td>\n",
       "      <td>b'\\xff\\xd8\\xff\\xe0\\x00\\x10JFIF\\x00\\x01\\x01\\x01...</td>\n",
       "    </tr>\n",
       "    <tr>\n",
       "      <th>4</th>\n",
       "      <td>5</td>\n",
       "      <td>3.0</td>\n",
       "      <td>112457891</td>\n",
       "      <td>None</td>\n",
       "      <td>11</td>\n",
       "      <td>Rob</td>\n",
       "      <td>Walters</td>\n",
       "      <td>None</td>\n",
       "      <td>False</td>\n",
       "      <td>Senior Tool Designer</td>\n",
       "      <td>...</td>\n",
       "      <td>29.8462</td>\n",
       "      <td>48</td>\n",
       "      <td>80</td>\n",
       "      <td>True</td>\n",
       "      <td>False</td>\n",
       "      <td>Tool Design</td>\n",
       "      <td>2009-12-28</td>\n",
       "      <td>None</td>\n",
       "      <td>Current</td>\n",
       "      <td>b'\\xff\\xd8\\xff\\xe0\\x00\\x10JFIF\\x00\\x01\\x01\\x01...</td>\n",
       "    </tr>\n",
       "  </tbody>\n",
       "</table>\n",
       "<p>5 rows × 31 columns</p>\n",
       "</div>"
      ],
      "text/plain": [
       "   EmployeeKey  ParentEmployeeKey EmployeeNationalIDAlternateKey  \\\n",
       "0            1               18.0                       14417807   \n",
       "1            2                7.0                      253022876   \n",
       "2            3               14.0                      509647174   \n",
       "3            4                3.0                      112457891   \n",
       "4            5                3.0                      112457891   \n",
       "\n",
       "  ParentEmployeeNationalIDAlternateKey  SalesTerritoryKey FirstName  \\\n",
       "0                                 None                 11       Guy   \n",
       "1                                 None                 11     Kevin   \n",
       "2                                 None                 11   Roberto   \n",
       "3                                 None                 11       Rob   \n",
       "4                                 None                 11       Rob   \n",
       "\n",
       "     LastName MiddleName  NameStyle                         Title  ...  \\\n",
       "0     Gilbert          R      False  Production Technician - WC60  ...   \n",
       "1       Brown          F      False           Marketing Assistant  ...   \n",
       "2  Tamburello       None      False           Engineering Manager  ...   \n",
       "3     Walters       None      False          Senior Tool Designer  ...   \n",
       "4     Walters       None      False          Senior Tool Designer  ...   \n",
       "\n",
       "  BaseRate VacationHours SickLeaveHours CurrentFlag SalesPersonFlag  \\\n",
       "0  12.4500            21             30        True           False   \n",
       "1  13.4615            42             41        True           False   \n",
       "2  43.2692             2             21        True           False   \n",
       "3  29.8462            48             80        True           False   \n",
       "4  29.8462            48             80        True           False   \n",
       "\n",
       "  DepartmentName   StartDate     EndDate   Status  \\\n",
       "0     Production  2006-01-28        None  Current   \n",
       "1      Marketing  2006-08-26        None  Current   \n",
       "2    Engineering  2007-06-11        None  Current   \n",
       "3    Tool Design  2007-07-05  2009-12-28     None   \n",
       "4    Tool Design  2009-12-28        None  Current   \n",
       "\n",
       "                                       EmployeePhoto  \n",
       "0  b'\\xff\\xd8\\xff\\xe0\\x00\\x10JFIF\\x00\\x01\\x01\\x01...  \n",
       "1  b'\\xff\\xd8\\xff\\xe0\\x00\\x10JFIF\\x00\\x01\\x01\\x01...  \n",
       "2  b'\\xff\\xd8\\xff\\xe0\\x00\\x10JFIF\\x00\\x01\\x01\\x01...  \n",
       "3  b'\\xff\\xd8\\xff\\xe0\\x00\\x10JFIF\\x00\\x01\\x01\\x01...  \n",
       "4  b'\\xff\\xd8\\xff\\xe0\\x00\\x10JFIF\\x00\\x01\\x01\\x01...  \n",
       "\n",
       "[5 rows x 31 columns]"
      ]
     },
     "execution_count": 10,
     "metadata": {},
     "output_type": "execute_result"
    }
   ],
   "source": [
    "df.head()"
   ]
  },
  {
   "cell_type": "code",
   "execution_count": 11,
   "metadata": {},
   "outputs": [
    {
     "name": "stdout",
     "output_type": "stream",
     "text": [
      "b'\\xff\\xd8\\xff\\xe0\\x00\\x10JFIF\\x00\\x01\\x01\\x01\\x00H\\x00H\\x00\\x00\\xff\\xed\\x00\\xd8Photoshop 3.0\\x008BIM\\x04\\x04\\x00\\x00\\x00\\x00\\x00\\xbc\\x1c\\x01Z\\x00\\x03\\x1b%G\\x1c\\x02\\x00\\x00\\x02\\x00\\x02\\x1c\\x02x\\x00;Successful mature business man with hands folded over white\\x1c\\x02i\\x00\\x048837\\x1c\\x02\\x05\\x00.Senior business man with hands folded on white\\x1c\\x02\\x19\\x00\\x03CRM\\x1c\\x02\\x19\\x00\\x0eDigital Camera\\x1c\\x02\\x19\\x00\\x11Change Management\\xff\\xdb\\x00C\\x00\\x02\\x01\\x01\\x02\\x01\\x01\\x02\\x02\\x02\\x02\\x02\\x02\\x02\\x02\\x03\\x05\\x03\\x03\\x03\\x03\\x03\\x06\\x04\\x04\\x03\\x05\\x07\\x06\\x07\\x07\\x07\\x06\\x07\\x07\\x08\\t\\x0b\\t\\x08\\x08\\n\\x08\\x07\\x07\\n\\r\\n\\n\\x0b\\x0c\\x0c\\x0c\\x0c\\x07\\t\\x0e\\x0f\\r\\x0c\\x0e\\x0b\\x0c\\x0c\\x0c\\xff\\xdb\\x00C\\x01\\x02\\x02\\x02\\x03\\x03\\x03\\x06\\x03\\x03\\x06\\x0c\\x08\\x07\\x08\\x0c\\x0c\\x0c\\x0c\\x0c\\x0c\\x0c\\x0c\\x0c\\x0c\\x0c\\x0c\\x0c\\x0c\\x0c\\x0c\\x0c\\x0c\\x0c\\x0c\\x0c\\x0c\\x0c\\x0c\\x0c\\x0c\\x0c\\x0c\\x0c\\x0c\\x0c\\x0c\\x0c\\x0c\\x0c\\x0c\\x0c\\x0c\\x0c\\x0c\\x0c\\x0c\\x0c\\x0c\\x0c\\x0c\\x0c\\x0c\\x0c\\x0c\\xff\\xc0\\x00\\x11\\x08\\x00\\xb4\\x00\\xb4\\x03\\x01\"\\x00\\x02\\x11\\x01\\x03\\x11\\x01\\xff\\xc4\\x00\\x1f\\x00\\x00\\x01\\x05\\x01\\x01\\x01\\x01\\x01\\x01\\x00\\x00\\x00\\x00\\x00\\x00\\x00\\x00\\x01\\x02\\x03\\x04\\x05\\x06\\x07\\x08\\t\\n\\x0b\\xff\\xc4\\x00\\xb5\\x10\\x00\\x02\\x01\\x03\\x03\\x02\\x04\\x03\\x05\\x05\\x04\\x04\\x00\\x00\\x01}\\x01\\x02\\x03\\x00\\x04\\x11\\x05\\x12!1A\\x06\\x13Qa\\x07\"q\\x142\\x81\\x91\\xa1\\x08#B\\xb1\\xc1\\x15R\\xd1\\xf0$3br\\x82\\t\\n\\x16\\x17\\x18\\x19\\x1a%&\\'()*456789:CDEFGHIJSTUVWXYZcdefghijstuvwxyz\\x83\\x84\\x85\\x86\\x87\\x88\\x89\\x8a\\x92\\x93\\x94\\x95\\x96\\x97\\x98\\x99\\x9a\\xa2\\xa3\\xa4\\xa5\\xa6\\xa7\\xa8\\xa9\\xaa\\xb2\\xb3\\xb4\\xb5\\xb6\\xb7\\xb8\\xb9\\xba\\xc2\\xc3\\xc4\\xc5\\xc6\\xc7\\xc8\\xc9\\xca\\xd2\\xd3\\xd4\\xd5\\xd6\\xd7\\xd8\\xd9\\xda\\xe1\\xe2\\xe3\\xe4\\xe5\\xe6\\xe7\\xe8\\xe9\\xea\\xf1\\xf2\\xf3\\xf4\\xf5\\xf6\\xf7\\xf8\\xf9\\xfa\\xff\\xc4\\x00\\x1f\\x01\\x00\\x03\\x01\\x01\\x01\\x01\\x01\\x01\\x01\\x01\\x01\\x00\\x00\\x00\\x00\\x00\\x00\\x01\\x02\\x03\\x04\\x05\\x06\\x07\\x08\\t\\n\\x0b\\xff\\xc4\\x00\\xb5\\x11\\x00\\x02\\x01\\x02\\x04\\x04\\x03\\x04\\x07\\x05\\x04\\x04\\x00\\x01\\x02w\\x00\\x01\\x02\\x03\\x11\\x04\\x05!1\\x06\\x12AQ\\x07aq\\x13\"2\\x81\\x08\\x14B\\x91\\xa1\\xb1\\xc1\\t#3R\\xf0\\x15br\\xd1\\n\\x16$4\\xe1%\\xf1\\x17\\x18\\x19\\x1a&\\'()*56789:CDEFGHIJSTUVWXYZcdefghijstuvwxyz\\x82\\x83\\x84\\x85\\x86\\x87\\x88\\x89\\x8a\\x92\\x93\\x94\\x95\\x96\\x97\\x98\\x99\\x9a\\xa2\\xa3\\xa4\\xa5\\xa6\\xa7\\xa8\\xa9\\xaa\\xb2\\xb3\\xb4\\xb5\\xb6\\xb7\\xb8\\xb9\\xba\\xc2\\xc3\\xc4\\xc5\\xc6\\xc7\\xc8\\xc9\\xca\\xd2\\xd3\\xd4\\xd5\\xd6\\xd7\\xd8\\xd9\\xda\\xe2\\xe3\\xe4\\xe5\\xe6\\xe7\\xe8\\xe9\\xea\\xf2\\xf3\\xf4\\xf5\\xf6\\xf7\\xf8\\xf9\\xfa\\xff\\xda\\x00\\x0c\\x03\\x01\\x00\\x02\\x11\\x03\\x11\\x00?\\x00\\xfd\\xfc\\xa2\\x8a(\\x00\\xa2\\x8a(\\x00\\xa2\\x8a(\\x00\\xa2\\x8a(\\x00\\xa2\\xb9\\x1f\\x8e?\\x1d\\xbc\\'\\xfb7|5\\xd4|_\\xe3mj\\xd3@\\xf0\\xfe\\x96\\xbb\\xa7\\xba\\xb8\\'\\x19\\xec\\x8a\\x07,\\xe7\\xa0P\\t5\\xf9/\\xfbU\\x7f\\xc1\\xcb\\xbe-\\xf1\\xdf\\x88\\xb5\\r\\x13\\xe0\\x07\\x82m\\xad\\xb48\\x14g\\xc5\\xfe\"V\\xd83\\xc1>I\\x0b\\x1c\\x07\\xfb\\xbec9n\\xca\\x0f\\x15\\x8dZ\\xf0\\xa7\\xf13jT\\'S\\xe1G\\xec\\xb6h\\x07&\\xbf\\x004\\xaf\\xda\\xaf\\xe2W\\xc7k\\xb1}\\xf1\\x07\\xf6\\x8e\\xf1M\\xb5\\xc5\\xe3*\\x8d\\x17E\\xd4\\xa6\\xd3!\\x19\\xec\\xbbLQ\\x168\\xe3\\x00\\x91\\x9e\\xb5\\x8du\\xff\\x00\\x05d\\xf8\\x95\\xfb\"\\xf8\\x83w\\x87~\\'\\xf8\\xc7^\\xb0\\x89\\x82Ie\\xe2[\\x99\\xf5L\\x01\\x81\\x90\\xf3\\xdc\\xc9\\x85$\\x1f\\x99\\x14\\x0ct\\xdd\\xd6\\xb9c\\x98\\xc2N\\xc93\\xaeYeD\\xae\\xda?\\xa1\\x8a+\\xe1\\xbf\\xf8%_\\xfc\\x16\\x12\\xd7\\xf6\\xf4[\\x9d\\x0f\\\\\\xd3lt\\xaf\\x14X\\xc4&\\xcd\\xac\\xfb\\xa1\\xbc\\x8c\\xe0oP@<\\x13\\xce?\\xa5}\\xc8+\\xb6\\x13S\\\\\\xd18g\\tA\\xf2\\xc8(\\xa2\\x8a\\xb2\\x02\\x8a(\\xa0\\x02\\x8a(\\xa0\\x02\\x8a(\\xa0\\x02\\x8a(\\xa0\\x02\\x8a(\\xa0\\x02\\x8a(\\xa0\\x02\\x8a(\\xa0\\x02\\xb2|q\\xe3}3\\xe1\\xcf\\x85\\xae\\xf5\\xadf\\xe4Y\\xe9\\x96\\n$\\xb9\\x9d\\x94\\x95\\x812\\x03H\\xd8\\xe8\\x8a\\x0e\\xe6n\\x8a\\xa1\\x89\\xc0\\x04\\xd6\\xb5~V\\x7f\\xc1\\xcb\\x9f\\xb6]\\x9e\\x8b\\xe0o\\x07\\xfe\\xcfz\\x19\\xb9\\x7f\\x19|E\\xbc\\x8a\\xf2i\\xa2}\\xabah\\xaec\\\\\\xfa\\xb3\\xb18\\xcf\\n\\xa8I\\xea\\x01\\xce\\xa5E\\x08\\xf33JT\\xdc\\xe4\\xa2\\x8f\\xcd_\\xf8-w\\xfc\\x15\\xb7\\xc7_\\xb7\\xc7\\x8c\\x17L\\xd3\\xa3\\xb0\\xb2\\xf0\\'\\x81u\\x89\\xe0\\xd3\\xa1\\xb0\\x9d\\x9du\\x02Y\\xa2[\\xbb\\x92\\x19\\x90\\xc9\\x858\\x08Y\\x02\\xca0X\\x93\\x8d?\\xd8s\\xf6d\\xf1\\x87\\xed%\\xf0\\xf3M\\xd1<\\x1d1\\xf0\\xecA\\xb3\\xadk\\xc2\\xd4\\x1b\\xbb\\xb7e\\xdcb\\x85\\xcf0\\xc6\\xb9P\\x04eY\\x8e\\xf2\\xccF\\xd1_Fxg\\xfe\\t3\\xf0\\xb3\\xc2\\x9e\\x15\\xd1 \\xd5\\xed\\xe7\\xd7\\xf5\\x9bxP\\xdf\\xddO82K#\\x9d\\xc5\\x82\\xaa\\x85E\\x03\\xe5\\x03\\x1c\\x8c\\x9e\\xf5\\xf7\\xff\\x00\\xec\\xad\\xf0\\xff\\x00B\\xf8Y\\xe1kk\\r\\x1bO\\xb6\\xb4\\xb3\\x81q\\x0cq/\\n1\\x8a\\xf8\\x8c~u\\xcd_\\xea\\xd4t\\x97V\\xcf\\xba\\xcb\\xf2\\x85J\\x87\\xd6k+\\xae\\x8b\\xfc\\xcf\\x87\\xe1\\xff\\x00\\x82\\x13\\xdcX\\xd9\\x17\\x97\\xc7^%\\xb8\\x9aa\\x99\\x92\\xf1\\xc5\\xd4s69\\xca\\xbes\\x9er:\\x1f\\xd6\\xbc\\xa7\\xe2\\x8f\\xfc\\x11[\\xc4\\xfav\\xb2\\xbfb\\xd4 \\xbd\\xb5\\x8c\\x96\\xf2\\xe5/\\xb0q\\xc8\\x01\\xb2@\\xcfl\\xd7\\xed-\\xd0K\\xebL\\x94\\xc0 d\\x109\\xaewZ\\xd3\\xe1\\xbaM\\xef\\x12\\x15\\xe7\\x8cu#\\xf4\\xacj\\xc7\\x13\\x1dUFvP\\xc5Q\\xf8eI\\x1f\\x88_\\xb2\\x85\\xa7\\x8e?\\xe0\\x94\\x7f\\xb4\\xa6\\x8d\\xe2MKM\\xb7\\xbd\\xd1\\xe5\\x9eH\\x02\\xc9q\\xb0\\xaa\\xcb\\xf2\\x95\\xdc\\xd8\\x00\\xe7\\x04n8\\xc9\\xcd~\\xf1~\\xc8\\x1f\\xb7\\x1f\\x83\\xff\\x00k]*k}\"\\xeb\\xec\\xbe \\xd3`\\x8e[\\xdd6gR\\xe8\\xad\\x9cH\\x8c8t$\\x1eG#\\xb8\\x1cg\\xe2\\xdf\\xdb\\x97\\xe1.\\x8d\\xf1\\x1f\\xc2\\x1a\\x9e\\x91{l\\x92\\xc3wnT\\x8c\\x0ex\\xecO\\xd3\\xf4\\x15\\xf9g\\xfb\\x05~\\xd5\\xf7\\xff\\x00\\xf0O\\xdf\\xdb\\x9fA\\x83]\\x92\\xe2]+H\\xd7#\\xd3\\xee\\x99\\x83,\\x86\\xd9\\xa4\\x08\\xd2)\\x1c\\x1c\\xa1\\x0f\\xb7\\xd4\\x10F\\rz\\x19\\x16s*\\xb3\\x95\\x19\\xef\\x1d\\xff\\x00\\xcc\\xf2\\xf3\\xfc\\x9a\\x10\\xa7\\x1cM=\\x14\\xbf3\\xfa\\x8b\\xa2\\xaa\\xe8\\x9a\\xc5\\xb7\\x88t{[\\xfb9V{[\\xd8\\x96xd^\\x8e\\x8c\\x01\\x07\\xf25j\\xbe\\xc4\\xf8\\x90\\xa2\\x8a(\\x00\\xa2\\x8a(\\x00\\xa2\\x8a(\\x00\\xa2\\x8a(\\x00\\xa2\\x8a(\\x00\\xa2\\x8a(\\x00\\xa2\\x8a(\\x00\\'\\x15\\xfc\\xee\\x7f\\xc1dn\\x0c\\xbf\\xf0XO\\x16x\\xc2Yg\\x96\\xef\\xc3&\\xc2\\xca\\x1b;\\xcb\\xb4\\x94@\\xdbQ \\xf2\\x87\\x01c\\x7f\\x9eB\\xbc\\x91\\xb4\\xe4\\xe5\\xab\\xfa!\\x91K\\xc6\\xc0\\x10\\t\\x18\\x04\\x8c\\xe2\\xbf\\x9a/\\xf8+\\xb7\\xc0\\xc9|\\r\\xfbkx\\x8e\\xfe\\rB+\\xbdn\\xfbS\\xba]fI\"&4\\x99\\x88-:\"\\x90\\x14\\x94l\\x80\\x00\\x03#\\x03=<\\xdc\\xc6\\xa2\\x8cTd\\xeds\\xd3\\xca\\xe8\\xcau\\x1c\\xa2\\xafc\\xec\\xdf\\xd9K\\xe2\\x85\\xc7\\xc4h\\xbe\\xd5s,R-\\xca\\x82\\xbbz\\xbb\\xae\\x01$\\xf7\\xc9\\x03\\xf0\\xc5}\\x95\\xe0\\x98-\\xfc4`Y\\xae\\xac\\xe3r>X\\xcc\\xca\\xaeN2p\\xb9\\x19\\xfc\\xeb\\xe0\\xef\\x83\\x1e\\x04\\x93\\xc1\\x9f\\x02tY\\xfc7\\x82\\xf6\\xb6\\x08\\xfc\\x83\\x86\\x93j\\xb1-\\xd8\\x13\\xce9\\xc75\\xc8\\xeb\\xf7~\\x1e\\xf1\\\\\\xb3\\xd8\\xf8\\x87\\xe1\\x7f\\xc7\\x0f\\x88z\\xbc\\x8c\\xf0\\xcb\\xa8i\\xb7\\xff\\x00\\xd966\\xcc\\x06\\xef\\x933\\xac\\xc4v\\x0f\\xe4\\xed$\\x8ev\\xe4\\x8f\\xcc\\xb0T\\x95\\\\\\\\\\xaa-[l\\xfdK\\x19\\x17\\x1c:\\x83\\xd1$\\xb6W?Y\\xa1\\xf1]\\x97\\xd9\\xc2\\xf9\\x91\\xc4\\xe5HL\\xf1\\xb8\\xd35Ya\\xfe\\xc8yL\\xb1\\xa8_\\x9b\\x96\\x1c\\xe7?\\xe1_\\x9b?\\xb2t>?\\xf0O\\xc5\\r3\\xc2\\xf6:\\x8f\\x8c\\xa1\\xd0\\xaf\\xeed\\xb5\\x8e\\xc7\\xc5\\xd3}\\xb1\\xecV6\\x00\\x9b{\\x98\\xd9\\x96U\\xc3\\x00\\t \\xe3\\x19\\x03\\x04W\\xa8\\xfe\\xdd\\xbf\\xb5G\\x89\\x7ff\\xbf\\x1aA\\xa2X\\x9d!\\xa6\\xbb\\xb7\\x88\\xc5>\\xa5.\\xcbH\\x00\\xf9Ar\\xb9c\\xb9\\x8f\\n\\x01\\'\\x07\\x8a\\xf5\\xa5\\x986\\x9c\\x14u\\xd8\\xf2\\xff\\x00\\xb2yd\\xaf-\\xf5\\xf9\\x1e\\x87\\xfbC\\xb0\\x94\\\\\\xa8!\\x99\\x93\\n\\xa4t\\x19\\xce+\\xf2\\x87\\xfe\\n[\\xf0F\\xda\\x0b\\xcdCZ\\x8a\\x15\\x8e\\xe5\\xa0K\\xd1\"\\xf0\\\\\\xc7*\\xa9\\x19\\xf5!\\xce\\x08\\xe7\\xfa}=\\x1f\\xedm\\xf1sR\\xd0g\\xf14\\x9a\\xdf\\xc2/\\x89Z\\x1a\\xc6\\x8fuk\\xe1k\\xa6\\x96\\xe2\\xcd\\x1c\\xe4\\x19\\x15\\x91]28RF\\x0f\\xadx\\xd7\\xed\\xaf\\xe2&\\xf8\\xd9\\xf1S\\xc3\\x1e\\x1d\\xd1\\xad\\xcck\\xe2\\xaf\\r\\xdbM\\x14S\\x10\\xac\\xa6{\\xb0\\xaa\\xa4\\xe4\\x81\\xca\\x93\\x9c\\xff\\x00\\x05a\\x94aj\\xd2\\xc794k\\x9a\\xe2)O\\x01\\xca\\x9d\\xfb\\x1f\\xbd\\x1f\\xb0\\xf4\\xb1\\\\~\\xc6\\xdf\\n\\xe5\\x86\\xef\\xed\\xf1\\xcb\\xe1M6E\\xb8\\xc9>nm\\xa39\\xe7\\xeb^\\xa7^Y\\xfb\\x12|\\x16\\xd4\\xbfg?\\xd9#\\xe1\\xe7\\x81\\xb5\\x9b\\x88\\xae\\xb5_\\x0ch\\x96\\xf67O\\x13\\x16A\"\\xaf*\\xa4\\xf5\\x0b\\x9d\\xa3\\xe9^\\xa7_\\xa7Gd~W-\\xdd\\x82\\x8a(\\xaa$(\\xa2\\x8a\\x00(\\xa2\\x8a\\x00(\\xa2\\x8a\\x00(\\xa2\\x8a\\x00(\\xa2\\x8a\\x00(\\xa2\\x8a\\x00\\r~\\x1e\\x7f\\xc1j\\xbe\\x16j\\x17_\\xb4\\'\\x8d\\x1e\\xca\\xdb1I%\\xce\\xab,\\xc8\\x07\\x9aeX\\xed\\xbc\\xb4\\x1e\\xe5X\\x90\\x07P\\xa6\\xbfp\\xeb\\xe2\\x0f\\xf8*\\xaf\\xec\\xd0u\\xcb\\t|i\\x1a]5\\x92D\\x1e\\xf5m\\xe3\\x0c\\x04\\xb1\\xed\\xf2\\xda^2\\x13\\x01\\xb0\\xc0\\xf0IS\\xf7\\x85|\\xdf\\x13Q\\xab,4j\\xd2Wpw>\\xa7\\x84\\xf14\\xa9\\xe2\\xe5J\\xb3\\xb2\\x9cm\\xf3\\xdd\\x1f;\\xff\\x00\\xc14\\xb5c\\xe1\\x9f\\x86\\x16V\\x9a\\xb2\\xa0\\xd4\\x8d\\xacp6\\x06\\t`\\xa1H\\xfc\\x87j\\xfa\\xbfS\\xf8y`\\xd6\"\\xeaF+\\x04q\\xeei.\\x1c)\\x8dG\\\\\\xb0\\xc1\\xc7\\xe3_\\x1f\\xfc\\n\\xce\\x83c\\xa2]A\\xbaG\\xf3$\\xf3\\x147R\\x089\\xc7\\xe2+\\xd0\\xed~\\'\\xde~\\xd1\\xba\\xf3Cww%\\xa7\\x854\\xd9\\xcd\\xbaZ\\xac\\xa5?\\xb5fC\\x86v\\xe7\\x98P\\xf1\\xe8\\xcc\\x0fa\\xcf\\xe7\\x99v%\\xa5(Z\\xee\\xfa\\x1f\\xa2cp\\xb1\\xa95W\\x9a\\xcb\\xaf\\xfc\\x03\\xd24=\\x07I\\xbb\\xf1f\\x9d6\\x9a\\x93\\xackq\\x9bk\\x92\\x84\\xc6\\xd8\\xe5\\xb1\\x9ey\\xc0\\xf4\\xe8+\\xcb\\xbe\\'i\\xb1\\xf8\\x8b\\xf6\\x93\\xbb7\\x93)y\\xb1l\\xac\\xc8\\x08\\n\\xaa\\x18\\x10\\x0f\\xa1\\xc8?Z\\xf2\\xdf\\x8a^\\x02\\xf8\\xd7\\xfb*|T_\\x15\\xf8\\x07\\xc5:\\x9f\\x8e|+p\\x0cG\\xc2\\xd7\\xe5@\\xd3rxx%U\\xc9\\xc7B\\x1f9\\x00s\\x9a\\xcb\\xf0_\\xc5\\x1f\\x8a\\x9e\"\\xf8\\xbc\\xfa\\xaf\\x8a4\\x8d\\x03J\\xb0\\xb9\\x99\\xa4\\xb7\\x8d7\\xbd\\xdc3m\\xfb\\xb2?\\xdcp\\xd9<\\x05\\x1bA\\xc7\\xcd\\xd6\\xba\\xeaQ\\x94\\x17;Z\\xde\\xfeF\\xf8uNWP\\x96\\x8dY_s\\x7f\\xe3/\\xec\\x1b\\xe1\\x9d\\x1b\\xc4\\x96\\xfa\\xed\\x86\\x8f\\xa5\\xe8\\xba\\xd4R\\x9b\\x8bK\\xad\"\\x01j>t\\t&UT\\x02\\xae\\x83\\x0c\\x8c\\xc4\\x11\\xee\\x01\\xae\\x03\\xe1\\xe7\\xecM\\xae|_\\xff\\x00\\x82\\x89|6\\x93H\\xb0\\xb8\\xbb\\xd3<\\x19c\\xa4\\xc9\\xab\\xdc$\\r5\\xbd\\xbd\\xb9\\x99\\xde4\\x94\\x06\\x04F\\xe4>y\\xce\\x06{W\\xd3\\xff\\x00\\x12\\xfc}g\\xe2o\\x05\\xe9z\\x85\\xb6\\xe5\\x06\"]\\x18\\xf3\\x1fb\\xa7\\xdc\\x1c\\x8a\\xfa\\x03\\xfe\\t\\x85\\xe1[x4\\x0f\\x1d\\xf8\\x89 \\x89n5\\x9dZ\\xde\\xcd\\xae\\x15\\xb74\\xd1Z\\xdaF\\xaa\\xa4\\xf6\\xda\\xf2K\\x85\\xed\\xb8\\xfa\\xd7\\xb9\\x91Ux\\x9c[\\xbb\\xd2\\xc7\\xcaq\\x14]\\x0c\"\\xd3S\\xea8\\xc1X\\xd4\\x102\\x078\\xe9N\\xa2\\x8a\\xfd\\x00\\xfc\\xd8(\\xa2\\x8a\\x00(\\xa2\\x8a\\x00(\\xa2\\x8a\\x00(\\xa2\\x8a\\x00(\\xa2\\x8a\\x00(\\xa2\\x8a\\x00(\\xa2\\x8a\\x00+\\x84\\xfd\\xa8<\\x0b7\\xc4\\xbf\\xd9\\xd7\\xc6\\xfa\\x15\\xa8\\x06\\xf3R\\xd1n\\xa2\\xb6\\x07\\xa1\\x9b\\xcbc\\x18\\xff\\x00\\xbe\\xc2\\xd7wU\\xf5]R\\r\\x1bN\\x9e\\xea\\xe9\\xc4V\\xf6\\xe8^F \\x9c\\x01\\xd7\\x81\\xc9\\xfa\\x0eMEH)\\xc1\\xc5\\xf5E\\xd3\\x9b\\x84\\xd4\\xd7C\\xf2;\\xf6}\\xd7\\xa3\\xb2\\xd4\\xf4\\xdbK\\x80\\xb0*%\\xe1&N>s\\x8f\\x94\\x8fP\\xc8\\xe3\\xdfo\\xbdv\\x9e0\\xfd\\x97\\xbc)\\xf1\\x0fG\\xd3\\xb5x\\xf5\\x1f\\x13\\xd9ZYC\\x146\\xb1i:\\xbc\\x96m\\x00Q\\x92X&\\x04\\x85\\x8fQ&\\xe1\\xe8\\x06Mx\\x97\\xc7\\x0f\\x16A\\xe1o\\xda\\x8b\\xc5\\xda\\x14\\xd1Ik\\xa4\\xa6\\xb1u>\\x95+\\xa6\\xc9a\\x0f\\xf3\\xacN\\x06z\\x03\\x81\\xdfi+\\xd8c\\xd3?d_\\xdaWF\\x9bA\\x92\\xc2\\xfa\\xe9|\\xdbUa\\xb1\\xc1=\\x08\\xe3\\xfc\\xf3_\\x91\\xca\\xa4h\\xd6\\x95$\\xb6oS\\xf6*p\\xab:Q\\xc4\\'\\xad\\x93\\xb1\\xd4\\xb7\\xc1G>\\x1cc\\xe1o\\x1bx\\x9bFd_.Q|\\xd1^\\xa1>\\xe8\\xea\\x08>\\xf9\\xe3\\xb0\\xaf\\x17\\xd7\\xe5\\xf8\\x87\\xe1?\\x1f\\xc1h\\x92i^.\\xd1\\xa2\\x9b\\xf7\\x867\\xf2\\xaf\\xc0\\xfe\"\\xa8\\x17c\\x9fb\\xcb\\xc7C\\x9e\\x0f\\xd4\\x1a\\xdf\\xc6_\\x0b\\xea>\\x1f\\xbc\\x88^$>j\\x10#T\\x07p9\\xc68\\xeaO\\x1c\\xd7\\x91\\xf8\\x83\\xc5\\xfaO\\x84\\xfc9#\\xd8\\xb4\\x1fk\\t\\x83#pNG\\xa0\\xae\\x8cV)(+Y\\xfa\\x1d\\x94q\\x15g\\x17\\x1a\\xab\\xefJ\\xff\\x00~\\xe5\\xe1\\xa3\\xbd\\x96\\x83\\x1cR\\xb2<\\xb7wRyq)$\\xec|\\x15\\xe3\\x19\\xc9\\xc9\\xe2\\xbfJ>\\x08\\xf8\\x02\\xdf\\xe1\\x97\\xc2\\xed\\x1bI\\x86\\xda;ic\\xb6I.\\xc2\\x0f\\xf5\\x97,\\xa1\\xa5s\\xeaK\\x93\\xfa\\x0e\\xd5\\xf1\\'\\xfc\\x13G\\xe0F\\xa7\\xf1\\x93\\xc4c\\xc6^#\\x08\\x9aW\\x87n\\xf7\\xc5\\t!\\xde\\xf6\\xed\\xa3R\\xa1\\xfa\\x80\\xb1\\xc6b8\\xff\\x00tz\\xd7\\xe85}o\\x0b\\xe0\\xbd\\x9d\\x17]\\xabsm\\xe8~u\\xc5X\\xf7V\\xb2\\xa0\\x9d\\xf9w\\xf5\\n(\\xa2\\xbe\\xa8\\xf90\\xa2\\x8a(\\x00\\xa2\\x8a(\\x00\\xa2\\x8a(\\x00\\xa2\\x8a(\\x00\\xa2\\x8a(\\x00\\xa2\\x91\\x98\"\\x92\\xc4\\x009\\xc9\\xedY\\xb7>/\\xb0\\xb58\\xf3\\xc4\\x8c;F\\x0b\\x7f.(\\x03N\\x8a\\xe75?\\x1b\\xb9\\x8b\\x16\\x90\\x95c\\xfcR\\x8e\\x9f\\x80\\xaeGP\\xf1\\xa6\\xa3&\\xb5\\x142]\\xcd\\xb5\\xfa\\x84!F>\\x82\\xa1\\xcd!\\xa8\\xb6zt\\xf3\\xa5\\xb4e\\xdd\\xd1\\x14rK0\\x00W\\x9b\\xfcO\\xf1\\xfcZ\\xd4\\xb1\\xe8\\xf6\\xa0\\xb5\\xbc\\xae<\\xe9\\xbb6\\x0fE\\xf6\\xf7\\xefQ_\\xc6$\\x95\\xd9\\xd9\\x9d\"\\xee\\xccO5\\xcaJ$\\xbd\\xd6\\xe4\\x99W1[rOb{\\n\\xceU.\\x8aJ\\xc7\\xc9\\xbf\\xb7O\\xec\\t\\xa9\\xf8\\xeb\\xc6\\x1a\\x97\\x8d|;ks\\xa9-\\xe8S\\xaci\\xb6\\xd1\\x17\\xbb\\xb3\\x95\\x10/\\xda\\xe0A\\xcc\\xaa\\xc1Ad_\\x98\\x12\\xc4d\\x1e>\\x01\\xf1\\x8f\\x81\\xbcG\\xf0\\xf3\\xc4\\x05\\xe1\\x8e\\xea\\xcd\\xa78K\\xcbC\\x98e\\xff\\x00hz\\x12;\\x1e1\\x9c\\x1e\\x08\\x1f\\xb7\\xf7\\xba\\xf5\\xc42\\xc3\\xa8@\\xec\\x92\\xdas<`\\x7f\\xae\\x8b\\xb9\\xfa\\xaf\\xf2\\xaek\\xf6\\x9c\\xfd\\x8e<#\\xf1\\xe7\\xc1\\x97\\x9a\\x8e\\xdb-\\x07Y\\x8e?\\xb5&\\xa8\\xab\\xb6\\x00\\xcb\\xf3n\\x9dr\\x03)\\xe4\\x16\\xe1\\xb0\\xc7\\x93\\xd2\\xbeK5\\xe1\\xbfm\\'\\x88\\xc2\\xbfy\\xee\\xbb\\xfav>\\xd3&\\xe2\\xafc\\x05\\x86\\xc5\\xab\\xc7d\\xd6\\xeb\\xd4\\xfcD\\x7f\\x13\\xf8\\xdf\\xc3\\xd7\\xfb\\x13V\\xbe\\x9aP\\xe3\\x00Ds\\xd7\\xbe>\\xb5\\xeb_\\x0e\\xbc5\\xe2\\xbf\\x1eIo%\\xea\\xde\\xcf\\xe5:\\x85\\x1e[*\\x198\\xda8\\xfb\\xcc{(\\xc95\\xf4\\x0e\\xbb\\xfb7x\\x8fK\\xf1b\\xc3m\\xe1\\xad:\\xe2\\xc9\\xe7\\tq\\xad\\x0b\\xb5\\x93N\\xb5@\\xd82\\xb6\\xd0ge\\x1dB\\x88\\xb7\\x9e2\\xa3\\x9c}\\x99\\xf0\\x17\\xf6e\\xf0\\xc7\\x83|;\\xa7k676\\xde&\\xbc\\x9a2#\\xd5\\xd4\\x86\\x85\\xb9!\\xc4\\n\\xa4\\xa4`\\x10T\\xe3,\\x08 \\x9c\\xe4W\\x8b\\x97\\xe4\\x18\\xacL\\xed5\\xca\\x96\\xed\\xfe\\x9f\\xd5\\x8fo1\\xe2<6\\x1a\\x9d\\xe9\\xbef\\xf6K\\xf5\\xfe\\xaen\\x7f\\xc1<<;?\\xc2\\xaf\\x86\\xb2xCP\\xd8u\\x14#S\\x9d\\xf8\\xde\\xd2\\xca\\x06\\xf4oR\\xa0 \\xfaq\\xd0\\n\\xfa$W\\xce>\\x1e\\xf3!\\x85\\xf5\\x08\\xe4h\\xe7\\xb8\\x9aI\\x16E%X\\x00J\\x0e{p\\xa2\\xaf\\xe9\\xff\\x00\\xb4\\xf6\\xb3\\xa2^\\x8b[\\xa1k~\\x03m/*yl\\x07\\xa9+\\xc7\\xe9_\\xa4Q\\x84iAS\\x8e\\xcbC\\xf3:\\xf5eV\\xa3\\xa9-\\xde\\xa7\\xbf\\xd1\\\\\\x0f\\x87>;[\\xea\\xea<\\xfb\\x19\\xa3\\xcfV\\x89\\xc3\\x81\\xf8\\x1cq]v\\x9b\\xe2\\x9d?U\\xc0\\x86\\xea2\\xc7\\xa2\\xb1\\xda\\xc7\\xf05\\xaaw14(\\xa2\\x8a`\\x14QE\\x00\\x14QE\\x00\\x14QE\\x00\\x15\\x1d\\xd5\\xcaY\\xdbI4\\xac\\x128\\x94\\xbb\\xb1\\xe8\\xa0\\x0c\\x93RV\\x07\\xc5G\\x86?\\x86^\"7\\x17Q\\xd9Bt\\xdb\\x85k\\x89\\x18*\\xc2\\x0cL7\\x12zc40<\\x16\\x0f\\xda6\\xf3\\xe2\\x0f\\x8and\\x99%\\x8bI2\\x91l\\x8b\\x9d\\xaa\\x83\\x1bY\\x87rz\\x93\\xef\\xe9^\\x9f\\xa5\\xde\\xc7sf\\xaf\\x85q\\x8eH\\xf4\\xaf9\\xf8U\\xe0\\xfd?\\xfb.\\x14\\xb6\\x9a\\x1b\\xb8B|\\xb2!\\x07\\xcc\\x1d3\\xc7Q\\xf4\\xae\\xcf\\xfb\\x1eM\\r\\x14\\xda9 \\x1f\\xb8z\\x11\\xe9XHh\\xd9\\x8ax\\xe5\\x8d\\x8c\\x0e\\xb2 \\xe1\\x94\\x1c\\x95\\xac\\x0f\\x10\\xdc\\xa5\\x85\\xfd\\xb5\\xde\\x03y2|\\xd9\\xee\\xa7\\x83^{\\xf1oV\\xd5>\\x17\\xde/\\x8bt\\x8f9\\xe1\\xb2>n\\xa3b\\t\"x\\x01\\x05\\xf0?\\xbc\\x06H\\xae\\x9b\\xc7\\x9e$\\xb6\\xd4<%\\xa7k\\x96r\\tt\\xedI\\x12T`x\\xc3\\x8c\\x8a\\x854\\xf4\\xea]\\xad\\xa9\\xce|[\\xf8I\\xf1b\\x7f\\x89\\x96\\x1a\\xe7\\xc3\\xff\\x00\\x89\\xba]\\x8f\\x87\\xee%\\x8cj\\x9e\\x1c\\xf1\\x1f\\x87\\xa2\\xd4,\\xbc\\xbc\\xfc\\xefo4-\\x05\\xd4nW\\xa0i]7`\\xe3\\x19\\x15\\xe8\\x86\\xd0B\\xad\\x16\\x00\\x19\\xea\\xa3\\x00\\xfe\\x15\\xf3\\xfc\\x9f\\xb7K\\xfc\\x07\\xfd\\xa3t\\xcf\\x87\\x1f\\x13\\xac\\xe3\\xd1\\xfc;\\xe2\\xf2\\xbf\\xf0\\x88\\xf8\\xc8\\xc9\\xb3N\\xb8\\x9d\\xb3\\x8d:\\xf1\\x98m\\x86rF#\\x90\\xb6\\xd9\\x0b\\x04\\xe1\\xb1\\xbb\\xe8\\xbb\\xc8=\\xb9\\x1d\\xba\\x11S\\x16\\x9e\\xa8$\\xad\\xb9H\\xe9\\xfe[,\\xb1\\x81\\x95<\\x83\\xd0\\xd7\\xe7\\xef\\xfc\\x15\\xe3A\\xfd\\xa44\\x7f\\x89\\x1a\\x0f\\x8c\\xbc!\\xa8\\xb7\\x88\\xbe\\x13xJ\\xdc\\xdc\\xb7\\x85t\\xf8\\x04F\\x1f\\x91\\x92K\\xa9\\xd7q{\\xb9#\\xdc\\xd8\\x03\\x84]\\x8c\\x89\\xb81?\\xa2V\\xa3r\\x01Q\\xeaZlw\\x96\\x8e\\x8c\\xaa\\xe3\\xae\\xd22\\x0f\\x18#\\xe8FE\\x13\\xa6\\xa7\\x17\\tl\\xca\\xa5U\\xc2jk[\\x1f\\x19\\xfe\\xc5?\\xb6G\\x84>:\\xf8\\x1f\\xedz\\x86\\xa5e\\xe1\\xcdcJT\\xfbI\\xb9\\x91m\\xe391n\\xc9\\x93\\x03\\x0c\\xdbW9\\xce3\\xf5\\x1e{\\xe2+\\xaf\\x8a:O\\xc7?\\x1e\\xfcd\\xf8\\x05\\xe2m*\\xf2\\xf6\\xdfS\\xb3\\xd3\\xb5\\x9f\\x07j\\x0f\\xe6\\xe8>-\\ti\\x00i\\x11\\xd1\\xb1\\x1c\\xef\\x90\\xab:r\\ns\\xb9r\\x95\\xd4\\xf8q\\xe2\\xf8O\\xff\\x00\\x05\\x1f\\xf1O\\x834\\x8f\\r$^\\x16\\xf8\\x9b\\xa4\\xc1\\xe2\\x05\\xbe[5\\x92\\xda;\\x8bi\\x8c7P\\xbaav\\xf9\\x8a\\xc5\\x97\\xe6 \\x17v\\xdayV\\xa9\\xf0\\x1b[\\x87\\xc0\\xbf\\xf0P]o\\xe1\\x7f\\x87\\xf4(c\\xf0\\xec\\xd6\\r\\xe2\\xfdF\\xea\\x18\\xfc\\xa1\\x0c\\xd1,Q\\x10\\xcb\\x8f\\x99Y\\xde\\x00\\xa4t.FN9\\xf1\\xf0\\x95\\xe3J\\xaci\\xc9\\xdfV\\xaf\\xf9\\x1e\\xa5h{H\\xcaq]\\x13\\xb7\\xe6}i\\xe2\\x8db(5i\\xacm\\x08d\\xb6\\xfd\\xd0\\xdb\\xd0\\xe3\\xbdq\\x1e:\\xd0u8\\xf4\\xa7\\xbb\\xd1t\\xeb}OVa\\x81\\x14\\xf7_f\\x88\\x8e\\xec\\xcf\\xb5\\x8f\\x1e\\x80\\x13]W\\x81\\xfc>\\xf7Iqy6L\\x931c\\x9a\\xd4M>x\\xaew\\xc6\\x82D\\xce\\xd7\\x19\\x00\\xc41\\xf7\\x87\\xaf\\xb8\\xafy=\\x0f\\x19\\x99?\\r\\xae/mtk_\\xb7\\xac+zQD\\xe9\\x0b\\x16\\x8d\\x1f\\xb8V \\x12\\x01\\xe8H\\x07\\xda\\xbdZ\\xd7M[\\xcbU\\xdc\\xa0\\x92:\\xd7\\x9e\\xe9p\\x83\\x7fs\\x1acm\\xbc\\x8a3\\x8e\\x03\\x10\\t\\x1f\\x91\\x1f\\x9dz^\\x82|\\xcbD\\x04\\x8d\\xc0\\x0c\\xd2\\x8b\\x01-/\\xf5\\r\\x08\\x85\\xb7\\xb8}\\x83\\xa4r|\\xc9\\x8fLv\\xfc+\\xa3\\xf0\\xc7\\x8d\\x7f\\xb6\\xeeE\\xb4\\xf0\\x98\\'\\xc1\\xc1\\x07(\\xe4u\\xc7\\xa5akE-\\xac$\\x99\\xf8\\xd8\\xa4\\xe7\\xd2\\xb9{\\xdf\\x1f[xV\\xf3K\\xbc\\x91\\xc6\\xd6\\x7f5\\x86q\\x95<q\\xf8V\\xa9\\xebb[\\xb1\\xectTVW\\xb1j6\\x91\\xcf\\x03\\xac\\x91L\\xa1\\xd1\\x94\\xf0\\xc0\\xf45-P\\xc2\\x8a(\\xa0\\x02\\x8a(\\xa0\\x02\\xb8?\\xdagE\\xd1\\xbcO\\xf0S[\\xd2u\\xdf)\\xac5H\\xd6\\xdf\\xca\\x92\\x7f%n$\\xde\\x19#-\\x91\\xc32\\x80Fy\\x19\\x15\\xdeW\\x8e\\xfe\\xdd:\\xed\\xa6\\x99\\xfb?j6\\x93\\xc1\\xe1\\xbdB\\xe7R\\x9a\\x18\\xad\\xb4\\xedj\\xe9`\\x83P\"Ef@O$\\x85\\x05\\xb8\\x07\\xa5)l5\\xb9\\xc9\\xfc\\x1e\\xf0\\xc1\\xf0m\\x84Vpi\\xcdaknO\\x90\\xb1\\xb8\\x92%S\\xd9}\\x06s\\xc5w\\xd7\\xb2\\xf9\\x83\\xa9\\x1f\\xfe\\xaa\\xf1\\x0f\\x80\\xb6Z\\x1d\\xcd\\xa5\\xbc_\\xd9\\x17\\x9e\\n\\xd4\\x08\\xccm\\xa5jB\\xee\\xc5\\x8f\\xa0\\xc6@\\x1e\\xce\\x8b^\\xc1\\r\\xb5\\xfd\\xa4\\xbe]\\xe3E:\\xb7\\x11\\xddB0\\x92\\xfb\\x11\\x93\\xb4\\xd6,\\x1a1\\xbcyd\\xda\\xc7\\x87\\xaf-\\x8a\\xa3\\x99au\\x00\\xf4bT\\x8c\\x1f\\xafJ\\xf2_\\x80\\x17\\xf2x\\xff\\x00\\xf6:\\x8a\\xd1\\x1d\\x9d\\xf4\\xa9\\xefl\\xa2$\\xf2>\\xcfu4j?\\x00\\x98\\xafO\\xf1\\x96\\xb2t\\xd0\\xfb\\x80\\xca\\x1e\\xf5\\xe6\\x1f\\xb0\\xbe\\xd8\\xbe\\x10j\\xa0|\\xd0\\xdcx\\x9f_\\x95\\x06x\\x01\\xb5k\\xbf\\xd3\\xaf\\xe1\\\\\\xcf\\xf8\\x8b\\xd0\\xd6?\\x07\\xcc\\xe8\\xbe&\\xfe\\xcf~\\x16\\xfd\\xb0\\x7ffy\\xfc)\\xe2\\xcd:\\rKO\\xd5-<\\xa6Y\\x07\\xcd\\x1b\\x000\\xcaG!\\x81\\x1c\\x11\\xe9_:~\\xcb\\xbf\\x1e\\xbe\"~\\xc1>&\\x1f\\n\\xbe5]_x\\xaf\\xe1\\xed\\xab\\x8b_\\x0bx\\xe8\\xa9\\x9a\\xe7J\\xb6RU-\\xb5C\\x8d\\xcf\\x1a.\\xd0\\xb7<\\xb2\\x85\\xf9\\xf2>u\\xfb+\\xc0\\x16#\\xc3m-\\x96\\xe0`y\\x0b\\xc5\\xfe\\xce{Rx\\x8bG\\x83Z\\xf1,Ja\\x8eO#\\x96%A\\xc59A\\xddJ:0RV\\xe5\\x96\\xa8\\xe8l\\xae\\xa2\\xba\\xb5\\x8ax$\\x8eh\\'A$RF\\xe1\\x92Ea\\x90\\xca\\xc3\\x82\\x089\\x04pE%\\xe5\\xe2\\xc2\\xa7-\\x8ct\\xae\\x03\\\\\\xb9\\xb7\\xfd\\x9f\\xb4\\xc95\\x0bH\\xfc\\xbf\\x08DL\\x9a\\x8d\\x9ck\\xc6\\x90\\xa7\\x96\\xb9\\x85GHA\\xc9\\x9208\\x19u\\xc6\\x19[\\xa1\\xb9\\xba\\x17\\xa0J\\x92F\\xf1H\\xa1\\x95\\xd1\\x81FR2\\x18\\x11\\xc1\\x04\\x1c\\x83\\xde\\xb4L\\xcd\\xa3\\xc3\\xbe*\\xe8\\xbf\\xf0\\x8f|r\\x8fP\\xb3W{\\xcdAXC\\xfb\\xb0V4}\\xa5\\x90\\x11\\x1b}\\xe9#\\x19\\xdd\\xcf\\xccp{\\x0b\\xbf\\x05\\xbe\\x13Xh?\\x14\\xbcw\\xe2H\\xd6)\\xf5-B\\x1b=%\\xee\\x82\\xa2\\xb3\"\\xc6\\xae\\xca\\x02\\x05\\x00\\x10\\xb0\\x93\\x91\\x9c\\x8f\\xee\\xed\\x02\\xf7\\xc7\\xe9 \\xd3\\xe1\\xb0\\xd4c\\x8a\\tn\\xedd6\\xc9#\\xa2\\x9f$J\\xc8\\x07$\\x83\\x82\\xeb\\x1e@9<zq\\xda\\xfc\\x19\\xb2i|\\x15c,\\x8f\\xbd\\xaf^k\\xe2FyW\\x90\\x88\\xfa\\xff\\x00\\xd30\\x9d\\x7f\\xfa\\xd5\\xe4\\xc3\\x0e\\x96+U\\xa2\\xd5\\x1d\\xf2\\xac\\xfd\\x86\\x9dt:K\\x1bE\\xd3\\xed\\x15@\\x1c\\x01\\x91Y\\xbe \\xd7\\x86\\x8f`\\x041\\x89//e\\x16\\xd6\\x91\\xff\\x00\\xcfI[8\\xcf\\xfb#\\xa9=\\x94\\x1a\\xdd\\xbb\\to\\x04\\x8f)T\\x8d\\x14\\xb3\\xb18\\n\\x00\\xe4\\x93\\\\\\x97\\xc3\\xab)<m\\xe2)|Mq\\x1b\\xc7a\\x1a\\xb4\\x1a4R)F1\\x13\\xf3\\\\\\x95<\\x83&\\x06\\xdc\\x80B\\x01\\xc0,\\xd5\\xec&y\\xe7K\\xa1\\xf8qt\\xad>\\x1b}\\xc6G\\x8f/#\\x9e\\xb2\\xb9$\\xb3\\x1f\\xa9\\'\\xe9\\xd2\\xba\\x0b\\x0b\\xd5\\xb4\\xe0\\x9cb\\xab\\x92 \\x04\\xe4W\\x1d\\xe2O\\x1aF\\x972G\\x13\\xe5\\xd7\\xb0\\xe7\\x02\\x9a\\xf2\\x11o\\xe3\\x97\\xc4\\x15\\xd3|,\\x96V\\xf2\\x81u\\xaa\\xdcEc\\x17\\xb1\\x91\\xc2\\x96\\xfa*\\x96c\\xec\\xa6\\xbc\\xd7\\xc6\\xe97\\x89\\xbc@nL\\xae\\x96V\\xb8\\x8a\\xda!\\xc1*\\xa0\\x00O\\xd6\\xb9_\\x17\\xf8\\xb9\\xbcG\\xf1g\\xc3\\x96\\x92H\\xc1b\\xbb\\x92`\\xbc\\x82\\n\\xa6\\x01\\xc7\\xfc\\x0e\\xbdC\\xc4K\\r\\xae\\x92\\xcb\\x1boe\\x19rNH\\xfcj\\xb9\\xac\\xc9z\\xa3\\xd5?e\\xff\\x00\\x13>\\xbd\\xf0\\xfex%}\\xef\\xa6\\xdd4\\n\\x0fUB\\xaa\\xc3\\xf5f\\xfc\\xab\\xd2+\\xe5_\\xd9[\\xe2\\xd4z\\x07\\xc4\\xeb\\xfd6h\\xe5{}\\\\\\xc5\\x18d\\xfb\\xb1I\\x92\\x14\\x91\\xdf9\\xc6\\x075\\xf5Ul\\xc2/@\\xa2\\x8a(((\\xa2\\x8a\\x00+\\xc2\\xbfk\\xef\\x0e\\xdb\\xf8\\xb3\\xc4\\xbe\\x16\\xb4\\xba\\x8b\\xce\\x828\\xee\\xa42C}\\xf6k\\x9b\\'& \\xb2&>f\\xce\\x1b\\xd8l\\xef^\\xeb_?\\xfcS\\xd1\\xac5/\\x8f\\x17\\xf7\\xf1\\xc4\\xafy\\x1d\\xbc6\\xd2J\\xccX\\x8d\\xa3;G8\\x03\\xe6\\xed\\xd4\\xe6\\xa6[\\x01/\\x80\\xbc\\r\\xab\\xd8\\xd9\\xacwz\\xba\\xf8\\x86\\xdc\\x0cC5\\xe5\\xaa-\\xd4#\\xb2\\xb3/\\xcb*\\x8fp\\xac=j_\\x10\\xea:\\x86\\x8b|\\x97(\\xaf\\x04(\\xbb/\\xed7\\x99]\\x14gm\\xc4$\\xff\\x00\\xadN0\\xc8p\\xc3\\xa89\\x1b[\\xae\\xf0\\xb8\\x10Y\\x81\\x8e\\x00\\xe2\\xb1\\xbe\\'\\xe9\\xaf\\xa9\\xe9N\"\\xca\\xdc\\xc1\\xf3\\xc2\\xc4\\xfej}\\x88\\xe3\\xd8\\xe0\\xf5\\x00\\x8c\\xa5\\xb5\\xcaO\\xa1\\xc3\\xfcF\\xbe\\x8fU\\xd2-\\xe7\\x8eX\\x9dnc\\x0c\\x92\\xc4\\xe1\\xa3\\x99H\\x04:\\x91\\xd4\\x10G\\xe7^k\\xff\\x00\\x04\\xf8\\xf3\\xa7\\xfd\\x9c\\xf4\\xe0\\xe4\\xfd\\xaei\\xef.e\\\\\\xe4\\x86\\x9a\\xf2iO\\xea\\xf5\\xc0|9\\xf8\\xeb>\\xa5\\xf1\\xfb\\xc6~\\x05\\xbbG]6\\xc2\\xde\\xdfZ\\xd0\\xe5\\x00lt\\x97r\\xde@1\\xfcQ\\xca\\xb1\\xb9\\xf6\\xb9_z\\xf3\\xbf\\x03\\xfe\\xd0\\xba\\xaf\\xc2\\x7f\\x02\\xe9\\x10\\xe8wo\\x05\\xec\\x82@@P\\xca\\xdf\\xbc~\\xb9\\xfc+\\x8aub\\xa4\\xa4uF\\x8c\\xda\\xe5>\\xfe\\xd3\\xac\\x8e\\x94\\x0c\\xce|\\xcb\\x8ceP\\xf4^:\\x9a\\xa5\\xa8\\xeb\\xf6\\xfe\\x1e\\x85\\xe4w\\x0f3\\x92X\\xe7\\x92k\\xc2~\\x0e|R\\xf1o\\x8d\\xf4\\xff\\x00\\xb5k\\x97@\\x06\\xe4\\x04]\\xa3\\xb5t\\x1a\\x8e\\xbb.\\xaf\\x7f\\xe5\\x89\\x0b\\xa8=\\xc7 V\\xd1\\x92j\\xe8\\xc2Pi\\xd9\\x9d\\x9c~+\\x97Z\\xb8bpc<\\x10y\\x07\\xeb^=\\xe0-SS\\xf8\\t\\xf1\\x06o\\x877\\x13J\\xfe\\x17\\xd4RMC\\xc1\\xb7\\x04c\\xecq\\x8c\\x99\\xf4\\x83\\xeb\\xe4c\\xcd\\x84\\xff\\x00\\xcf\\x17d\\xda\\x05\\xbe\\xe6\\xf5?\\x0e\\xc7\\xe4\\xdb\\xaeW\\xefu\\xf55\\x9d\\xf1k\\xc1\\x10\\xfcA\\xf0\\xbf\\xd9\\x9eF\\xb3\\xbd\\xb6\\x95.\\xf4\\xfb\\xd8\\xc7\\xefl.\\xa39\\x8eU\\xfa\\x1c\\x82:2\\xb3\\xa9\\xca\\xb1\\x04lV\\xe8\\xcc\\rZ\\rO\\xc5F\\xea\\xc1\\x1b>b\\x14\\xde\\x07\\xcd\\x19\\xc7\\x0c=\\xc1\\xe7\\xf0\\xafb\\xf0\\x8e\\x98\\xba>\\x9dmf\\xae\\\\ZD\\x96\\xe1\\xff\\x00\\xbf\\xb1B\\xee\\xfcH\\'\\xf1\\xaf/\\xf8C\\xa9\\xbe\\xae\\x03\\xdc\"\\xc3\\xa8G0\\x8a\\xf6\\x00w\\x08&F\\xfd\\xe2\\x03\\xfcJpJ\\x9e\\xea\\xcax\\xcdz6\\xab\\xe2%\\xf0\\x87\\x87%\\xbeh\\x9ay\\xb2#\\x82\\x10pg\\x95\\xce\\x113\\xdb,G=\\x86Oj\\x12\\\\\\xdc\\xc0\\xefk\\x175K\\xb8\\xb5\\xddd\\xe9\\x87k\\xd9Z*\\xcb|z\\xab\\xb1\\xe5!?^\\x19\\x87\\xf7v\\x83\\xc3\\xd4\\xdf\\xf0\\x93\\xa2\\xc3\\xbe(G=\\x06pz\\xf7\\xf4\\xac\\xbf\\x0f\\xf8~\\xebJ\\xd1\\xe3\\x8aY\\xbe\\xd1u+4\\xd7R\\x81\\x8f:V\\xe5\\x9b\\xd8v\\x03\\xb0\\x00TSi\\x97\\xe9\\x03D\\x91\\xc5\\x18\\x121\\x0f#pA9\\xe0.I\\xeb\\xd0\\xe3\\xebV\\x99\\x16%\\xd5<K=\\xc42.\\xe1\\x1eG\\xf0\\xf2\\x7f3\\\\\\x0e\\xa1\\x14\\x91\\xa5\\xcc\\x93\\xcc\\xfbz\\xb1w\\xc0\\xae\\xc8xi\\xb6\\x11=\\xc3\\xcc\\xc7\\xaa\\xa2\\xf9j\\x7f\\x99\\xfdE`x\\xff\\x00\\xc3Q\\x9d\\x0eQ\\xb5T\\x15;\\x98\\x8d\\xc4~\\'&\\xa9.\\xe2>x\\x92\\xe0k\\x1f\\xb4&\\x9b\\x1d\\xa9\\'\\xf7r\\x82\\xf00%T:\\x83\\x923\\x83\\x92=\\xeb\\xe8\\xadkD\\xb8\\xd4\\xf4\\x05\\xb3\\x0e\\xbaf\\x9b\\x80\\xd3K\\x9c\\xcb \\x1d\\xbe\\xa7\\xd3\\x9a\\xf8\\xbfY\\xf8\\xa7\\xe3\\x1f\\x0b~\\xda\\xde\\x19\\xf0G\\x82<#\\x7f\\xab\\xcd\\xacXM5\\xde\\xafr\\xe9\\xf6-\"\\x1f61\\x1c\\xacX\\x8c\\xee>`\\x089\\xf9:W\\xdb0\\xfc<\\xbd\\xd7\\xda\\xd8\\xeb\\xf7\\xa9woi\\x18\\x02\\xda\\x02Q&~2\\xf2\\x11\\x8e\\xf9\\xc2\\x8e1\\xdc\\xd47\\xefX\\xa4\\xb4\\xb9\\xc5\\xf87U\\xb9\\xf0\\xa7\\xc7\\xff\\x00\\x08\\xad\\xa6\\x98\\xa9\\xa4Ax\\x15\\xcc\\x8b\\xba2\\xd2\\x06\\x8c37b\\xa1\\xb7\\xee=\\xc2\\xd7\\xdaJC( \\x82\\x0fLW\\xca_\\x10<:\\xb0B$\\x82\\x14\\x8f\\xc9L*\\xc6\\n\\x80>\\x80\\xf3\\xd6\\xbbo\\xd9\\x0f\\xe2\\x9e\\xb1\\xe2\\x1db\\xfb\\xc3\\xfa\\x8c\\xb1Kgah\\xb2\\xd9\\xfc\\x80I\\x18\\x0f\\xb4\\xa9=H\\xe4u\\xc9\\xf7\\xae\\x98;\\xa3=\\x99\\xef\\x14QEYAE\\x14P\\x06_\\x8d<]e\\xe0/\\tjZ\\xd6\\xa1\\'\\x97c\\xa5\\xdb\\xbd\\xcc\\xcd\\x82p\\xaa2zW\\xc9~\\x07\\xf1\\xfe\\xa1\\xe3\\xfdv\\xebT[wU\\xd4\\xae\\x9a\\xe3s\\r\\xa0\\x06b\\xc3\\x1e\\xdc\\xd7\\xd5\\x1f\\x16-\\xd2\\xeb\\xe1\\x87\\x88\\xa3\\x92\\x11r\\x8f\\xa6\\xdc\\x06\\x88\\x8c\\x89\\x07\\x96\\xdcb\\xbf\"\\xbe\\x00~\\xdf^)\\xf8\\xf1\\xf1\\xcbP\\xb7\\xd3\\xaf\\xa2\\xf0\\xdf\\x85\\xf4a$:m\\xb4(\\xa1\\xe4\\xd8\\xfbZI\\t\\x18?(\\x03\\x1e\\xfd\\xaa$\\xf5\\x0b\\x1f\\xa4>\\x13\\xf8\\x8d\\xa5>\\xbd\\xfd\\x8b\\xfd\\xa0.5X\\xd3|\\x96\\xf0\\xc4\\xf2\\x18G\\xab\\x95\\x04/o\\xbcGZ\\xe8\\xfcUms>\\x98\\xefo\\x19\\x95\\xc2\\x92\\xa3p\\x07=\\xab\\xc1~\\x19|E\\xb9\\xd5\\xf5\\x0bY^v\\x92\\xd9Is&\\xe1\\xb1\\xc0\\xef\\xc7\\x1c\\x92\\x05{g\\x87|u\\x06\\xab\\n\\x84p\\xc38Q\\x9e\\xb8\\xef\\xf4\\x1f\\xce\\xb3O\\xa1V>P\\xf8\\xe9\\xfb7\\xebV\\x9f\\x10l\\xfcU\\xe1\\xd1c\\xa4j\\x17r\\xb5\\xd4\\xd6\\xf7R1O9\\xf6\\xf9\\xb8\\x08\\x8cTI\\x85\\xdd\\xcfQ\\x9e+\\xc1\\xff\\x00g\\xdf\\xd9/\\xe2\\xc7\\xc3\\x8d~\\xea_\\x88\\xfe\\x1bS\\xa5\\xda\\xddJ\\xd6\\x97\\x9a}\\xe47\\xb0\\xc9\\x11r\\xea\\xcc\\xa8\\xc6T\\x1b\\x7f\\xbe\\x8b\\xcf\\x1e\\x95\\xfaS\\xa8i0\\xdc\\xde\\x8b\\x97Tw\\xfe\\x1c\\x8a\\xe2\\xbcg\\xe3\\xdb=\\x07S\\x16\\xc2\\xe29\\xef\\\\\\xf1\\x04M\\xfe\\xa8z\\xb1\\xfe\\x95\\xe7\\xc7/\\xa7\\t7\\x0b\\xab\\xebn\\x97=:\\x99\\xadj\\x90\\x8c*$\\xdcU\\xafmm\\xd9\\xbe\\xa7\\x96YGwq\\xe1\\xe36\\x95\\xa6\\xdc\\x9b]\\xbf,\\xbeY\\x11\\x91\\xeb\\xb8\\xf1Z>\\r\\xd1\\xde\\x1c<\\xccL\\x8e\\x019\\xf5\\xafS\\xd0\\xb4\\xf6\\xf1\\x06\\x9c\\x92\\xde\\xb1h\\xc8\\xf9#n\\x17\\x1fJ|Qi\\xd6\\xfe%&\\x18\\xe3Y\\x8cA~P\\x00@;\\xfdH\\xfd\\x07\\xbdt\\xaav\\xd1\\x1c.w{\\x18\\x16.\\x88\\x83\\r\\x90:\\x8e\\xd5%\\xd9I`\\xcb\\x10v\\x9a\\xeb\\xa4\\xb1\\xb4\\xd4\\x01Y`\\x81\\x9f\\xb3\\x00\\x01o\\xc4sPE\\xa7X,\\xdeY\\x8a8\\xc8\\x1c\\x8c|\\xeb\\xef\\x93\\xd4Q\\xc8\\xc9m3\\xcf\\xfc9g\\x1a\\xfcN\\x89\\xec\\xa6\\x8dE\\xdd\\x9c\\x8d}\\x10\\x00\\xf9\\xad\\x16\\xc4\\x8a@{0\\x122\\x9f\\xef\\x0cg\\xee\\x8a\\xdb\\xd1\\xa6\\x8f\\xc7\\xdf\\x10\\xe4da.\\x99\\xe1\\x97h\"#\\xeeKvF$a\\xeb\\xe5\\xa9)\\x9e\\xccd\\x15\\xd9Gl,\\x14\\x85\\x08p\\xbc2\\x80\\t\\x14\\xfd\\x028\\xa2|ZC\\x14\\x01\\xd8\\xb3yh\\x13$\\x9c\\x92q\\xd4\\x93\\xcd5\\x00\\xb9\\xb3o\\xa1\\xa7\\xd9\\xf7\\x11\\xb4\\xf7\\xc8\\xac\\xfdV\\xe6\\xcfKO\\xdeJ\\x88OB\\xc6\\xba{9\\x8b(\\r\\xd7\\xfd\\xaa\\xca\\xf8\\xbd\\xe1)<Y\\xf0\\xf2\\xf6\\xe3N\\x82\\xd9\\xb5\\xcd>\\xdaK\\x9d9\\x9e5lL\\xaaO\\x97\\xc8\\xc6\\x1bn\\xdc\\xf3\\x83\\x83\\x83\\x8a\\xd2J\\xd1rZ\\xd8\\x98C\\x9aJ/K\\x9c\\xd6\\xa3\\xab\\xe9\\xfaU\\xb3\\\\\\xdd\\xdcE\\x04#\\x92\\xf20Q\\x8f\\xa9\\xaf\\x14\\xf8\\xc1\\xfbl\\xfc:\\xd0\"}=u\\x84\\xbf\\xba\\x95p\\xb0\\xd8\\xdbKy#\\x0fP#V\\xaf6\\x9e\\xdb\\xc5_\\x10-\\xe6\\xbe\\xbb\\x9ak\\x99\\'L1\\xb8p\\xd8_\\xee\\xed\\xe8\\x07\\xd0z\\xd7:\\xfe\\n\\xd4\\xf4\\x98\\xd4E\\x12 \\\\r\\xb8\\x03\\xf9W\\xc8\\xd6\\xe2\\x99^\\xd4\\xa9}\\xef\\xf4\\xff\\x00\\x82}\\xa6\\x1f\\x84\\xe9\\xefZ\\xaf\\xc9\\x7f\\x9f\\xfc\\x03.\\xcb\\xe3Dzo\\xed\\x89\\xf0\\xebZ\\xd1\\xbc9w\\xa8xz\\xfa\\xc3T\\xb1\\xd5\\xaf\\xbc\\xa9\\xa3:aQ\\x0c\\xd6\\xc6@F\\xd5\\xde\\xder\\x82\\xd8\\x00\\xb1\\x1dM}\\x99\\xe1_\\x89\\xd6>(\\x83m\\x86\\x97\\xaa\\xcf\\x81\\xf33@Q\\x17\\xea\\xe7\\x8f\\xd6\\xbe0\\xff\\x00\\x84V}i\\xee4\\xf9o.#2\\xe5K\\xc6\\xd8x\\xc9\\xf4a\\xc8#\\xb7C_b~\\xc7\\xba\\xf4\\xfa\\xe7\\xc0\\x8d?J\\xd4nuK\\x9dW\\xc3\\x04\\xe9wsj\\x97_k\\xba\\xbb\\t\\xccW\\x0f)\\xf9\\x9f\\xcc\\x8c\\xa9\\xdc\\xdc\\xee\\xdc\\xa7%I\\xae\\xfc\\xa75x\\xa9\\xb8M$\\xff\\x003\\xcf\\xce\\xf2H`\\xe0\\xaaR\\x93\\x92\\xdb\\xd0\\xbb\\xaf\\xea6\\x971\\xbcwpH\\x91?\\x1eb\\x9d\\xca?\\xa8\\xfc\\xab\\xc9\\xbe\\x1f\\xfcP\\x8b\\xe1O\\xc7+;\\xa5\\x9f6b\\xf3\\xec\\xb3\\xb1\\x1c<.\\xdbX\\xe3\\xd8\\x1d\\xc3\\xdcW\\xaf\\xfcI\\xd1&\\x96\\xd6C\\x04bp\\x01,\\x10\\xf3\\xfe}\\xab\\xe6\\xcf\\x1fh\\x90\\xea\\x1a\\x94\\xbb\\x0b[\\\\)\\xca\\x93\\xc0\\xf5\\xfe\\x95\\xf4\\x94\\xac\\x99\\xf2\\xb3\\xbd\\xae\\x8f\\xd1Pr20A\\xa2\\xb8_\\xd9\\xbb\\xe2\\x03\\xfcI\\xf89\\xa3\\xdf\\xdc\\r\\x97\\xd0Fl\\xef\\x139+,Gi?\\xf0 \\x15\\xc7\\xb3\\x8a\\xee\\xabB\\x93\\xba\\xb8QE\\x14\\x0cd\\xf0%\\xd5\\xbb\\xc5\"\\x87\\x8eE(\\xcaz0#\\x04W\\xe0\\x9f\\xec\\xb5\\xf0\\x9a\\x7f\\x87\\xbf\\xb6\\'\\xc5\\xef\\x0b\\xeaQI`<;ys\\x1b[\\x9e\\x1a8\\xcd\\xcc\\x84\\x81\\x9e\\xb9\\x1b0GPr3\\x91_\\xbd\\xf5\\xf8\\xdf\\xff\\x00\\x05\\x8d\\xf1\\x0c\\xdf\\xb2\\x9f\\xfc\\x14E|}c\\xa5\\x8b\\xab\\x7f\\x10X\\xd9K\\x7f\\x039D\\xbd0\\xec\\x03-\\xdb>XR}\\xab9\\xadS\\x1a\\xd8\\xfa.\\xd7V\\xb0\\xf0\\x17\\x82\\xa1y\\x1c\\xd9YD<\\xa8!\\x8f\\xef\\xcc\\xde\\x83\\xf5\\xe7\\xd4\\xd7y\\xf0V\\xfbQ\\xb8\\x8do\\xae\\xe36\\x90\\xb66FO\\n\\x98\\xe0W\\xc9\\x9f\\xb3\\xa7\\xc4\\x9dW\\xe3U\\xb4>(\\xf1SZ\\xc76\\xf6d\\xb7\\x8c\\x91\\r\\xb2\\x83\\xf2\\xa2\\xe4\\x9c\\xe0u\\xf75\\xea\\xbf\\x16\\xff\\x00j\\xfb_\\x87\\x96\\x96\\xbajH\\x8b\\xac_\\xc7\\xe6[\\xc2\\xc0\\x81\\x14]\\xe6q\\xd9F\\x0e3\\xd4\\x8e\\xf5\\x95\\xb5)3\\xde\\xbe,\\xfctO\\rX<\\x16\\xce\\xa6\\xe9\\x94\\xa8\\xc9\\xe1=\\x07\\xb1\\xf5\\xae\\x13\\xe1\\xc5\\xab\\xea\\x1a\\x8bj7\\xf1=\\xe5\\xd5\\xc3\\x16?7\\xde\\x19\\xaf \\xf8K\\xe3i>+\\xeb\\x91\\x8bP\\xf7{\\x9c\\x05r\\x0eg|\\xf2A\\x19\\xc0\\xfa\\x81\\xc5v\\xff\\x00\\xb4\\x97\\xed\\x89\\xe1O\\xd8\\x97\\xc21\\xc13\\xc7\\xaa\\xf8\\xd7P\\x01,\\xb4\\xabu2HX\\x83\\x82p\\x0e1\\xdc\\x9aO\\xb2);nz\\xef\\xc4?\\x8b\\xa9\\xf0\\xfe\\xc2\\x14\\xb8`/\\xae\\xbe[[2~bze\\xbd\\x00\\xab\\xdf\\x0fn\\xe4\\x9a\\x15\\xbb\\xb9\\x99d\\xba\\x99<\\xc9NG\\x04\\xf3\\x8e+\\xe2\\xdf\\x82\\x9a\\xd6\\xb5\\xe3\\x1dq\\xfce\\xe3\\xeb\\xe8\\xc6\\xabxw\\xc5j\\xad\\xb5m\\xd4\\xf4P\\t\\xcfz\\xf7\\xaf\\rx\\xd8j\\x93\\x99\\x02L\\xb0\\xf4\\x04\\x10A\\x1f\\x8f\"\\x9d\\xac&\\xcfU\\xd5|l\\xf0jO-\\xb38\\xf2\\x9b\\x0e\\xb9\\xe2Q\\xf4=\\xeb\\xa4\\xd2\\xb5\\xe8<a\\xa7,\\x90\\xca\\xad$|\\xaeN\\x1dO\\xa1\\xaf%\\xb0\\xbdV\\xb5\\x99\\x84\\x8b\\x86\\xe5\\x83\\x1cg\\xdb\\x9a\\xc0\\xd5\\xb5\\xeb\\xbb[\\x83\\xe4B\\xc0\\x1e\\x0bE\\xf2\\x93\\xef\\x90\\xd8?\\x95+\\x05\\xcfc\\xd5\\xbcE=\\xcd\\xf1\\x83\\xed-\\xe4\\xc03 F\\xe0\\xfbf\\xbaO\\x0ex\\x9e\\x1be\\x88d\\x07a\\xd3 \\xe2\\xbe|\\xb0\\xf1\\xd8\\xd3\\xf4\\xbb\\x83-\\xccP\\xef\\x18i\\x9d\\xfea\\xf5\\xc8\\xc0\\xfck\\xb1\\xb6\\xbd\\x8e\\xed\\xada\\x97Q\\x7f=\\xa2\\xdd\\x85\\x18\\xc8\\x18\\xc9\\xe0{\\x8f\\xce\\x9e\\xc2=\\xff\\x00O\\xd6\\xbc\\xfc\\x90\\xc3\\x00\\xd6\\xe6\\x81\\xafF\\xa2h\\xe4`B8$\\x1fB?\\xfa\\xc6\\xbc\\xbf\\xe1\\\\)yg\\xe6\\xc6\\xf3K\\x16\\xf2\\xa0\\xc8\\xa5O\\x07\\x07\\x83\\xcfZ\\xe0\\xbfm\\xcf\\x8c\\xb7\\xbf\\x04\\xa2\\xf0\\xb3XI\\x0crx\\x86\\xe2k\\x04F\\x04\\xb4\\xd3\\x00\\x8d\\x1a\\xa8\\x1dX\\x82\\xff\\x00\\x95\\\\$\\xaf\\xa8Iv>[\\xf8\\xdb\\xfb[\\xe9?\\x08\\x7fh\\x9f\\x16x1\\xa7\\x11K\\xa4\\xea\\x92\\xdb(V\\x18*N\\xe4?\\x8a\\xb0<W\\xa5x#\\xf6\\x80\\xf0\\xdbi\\xc1e\\x1e{\\xdc\\xb7\\xcb\\xfb\\xb0x8\\xff\\x00\\xeb\\xfeU\\xcf|7\\xff\\x00\\x82I|?\\xf1\\xf7\\xc7o\\x14\\xfcT\\xf8\\x83o7\\x8b<Q\\xe3\\x19\\xc5\\xe1I\\xa7\\x9a8t\\xd3\\xb28\\xd5Q\\x04\\x9c\\xedX\\xd4dc\\xbf\\x1c\\xd7\\xa2\\xeb?\\xb1\\x7f\\x86~\\x11\\xdd\\xa6\\xa7\\xa5\\xfc:\\xb1\\xf1%\\xad\\xaf\\xcc-\\xa3\\xd6n\\xa2c\\xdb\\x06)%1\\xb7\\xe3_/W%\\xaa\\xaa7I\\xc7\\x95\\xf7\\xbf\\xf9\\x1fe\\x1c\\xff\\x00\\t*\\n5c.d\\xba[W\\xf7\\xa2-?\\xe1]\\xcf\\xc7\\xcb\\x9f\\xb5\\xf8j\\x01\\xa7\\xc4\\x87\\r\\xa9K\\x94\\x81\\x18\\x1e\\x80\\x80K\\x91\\xcf\\xca\\xa0\\xfb\\x91^\\xa9\\xa9\\xf8\\xb7\\xc3_\\xb2o\\x81b\\x82P\\xf3\\\\\\xdd\\x04K\\x8b\\xf6\\x8c\\x9f\\xb7N\\x14\\xe3{\\x0f\\xc4*\\x93\\xc0\\xe0t\\xaf\\x12\\xf8\\x83\\xff\\x00\\x05\\x0b\\xd3\\xda\\xcb\\xfe\\x11kW\\xd4~\\x12k\\xca\\x82\\xd6\\xc9\\xbcC\\xa04\\xfalX\\xf9UW\\xcbx\\xd3h\\xed\\x87\\xc7N+\\x87\\xd74?\\xdaSD\\xb1]n\\xd3\\xe2\\x7f\\xc2?\\x16i\\xd7X\\xdfm>\\x8f=\\x947\\x08\\x7f\\x87q\\x91\\xd4\\x83\\x8e\\xe6\\xbd<\\x16YG\\r/h\\xb5\\x93\\xeb\\xfeH\\xf01\\xd9\\xa5lL}\\x9b\\xd2+\\xa7\\xf9\\xb3\\xa7\\xf8\\x9f\\xfb|k\\xde%v\\xb0\\xd2\\xed\\xec4\\xe8\\xdf\\x837Wa\\xed\\x9e\\xf5\\xc1x\\x83\\xe2\\xb7\\x88m|8\\xf7\\xf0\\xc6.\\xe6C\\xfe\\xac\\xa8!\\x87rG\\xa5l\\xe8\\xbe*\\xb5\\xba\\x9e\\x1bo\\x89\\xbf\\rf\\xf0\\x85\\xcc\\xcc\\x155}%\\xc5\\xee\\x95!=\\x0e\\xe4\\xcbG\\x93\\xfd\\xe0\\x07J\\xf4;O\\x82PF\\x9fh\\xd1.`\\xd4m[\\x0cT\\xb0\\xdc\\x07a\\x8e+\\xd7\\x84\\xfb\\xa3\\xc8\\x9c;\\x1e\\x8d\\xff\\x00\\x04\\xaa\\xf8\\xe1\\xa9|X\\xd2\\xfc_es\\xa5\\xc5\\xa7\\xdai\\x0fj\\xe1\\x91\\x8e$\\x96A l)\\xe9\\xf2\\xa2~5\\xf5\\xd5|\\xdd\\xfb\\x00\\xf8J\\x1f\\x05j~7\\xb3\\x8e\\xd8[\\xc9$\\xd6\\xb3?<\\xf2\\x8f\\xc7\\xeb\\xfa\\xd7\\xd25\\xac\\xad}\\t\\x85\\xed\\xa8QE\\x14\\x8b\\n\\xf8S\\xfe\\x0b\\xad\\xf0s@\\xf1\\x97\\xc0\\xcf\\x0f\\xeb\\xf7\\xd6bMN\\xcfP:zJ1\\xf3C$n\\xe5[\\x8ep\\xc8\\x08\\xf4\\xdc\\xde\\xb4QS=\\x86\\xb7>D\\xfd\\x9e\\xef?\\xe1\\x05\\xf8W\\xa9\\xde\\xdbE\\x15\\xc1\\xd1\\xed\\x9a\\xe2\\xde\\x1b\\x95\\xf3!\\xdf\\x9e\\x0b(\\xc6q\\x9e\\x95\\xe0\\x7f\\x0e\\xae/~3|O\\x8bQ\\xf1\\x06\\xa5\\xa8^_\\xf8\\x8a}\\xf7\\x97\\x1en\\x1c\\x81\\xd1\\x14\\xe3\\xe5A\\xd9E\\x14T\\x07C\\xec_\\xda\\xbf\\xe2]\\xf7\\xecA\\xfb(\\x7fi\\xf8\\n\\x0b+MN\\xe6\\x11\\x11\\xbc\\xba\\x8c\\xcd4`\\xa7U9\\x18<\\xd7\\xc9_\\xb1\\xf7\\x85\\xe3\\xf8\\xc7\\xadI\\xe3O\\x14]^\\xeb\\xbe\"\\xbffyn\\xaf%\\xf3H;\\xb1\\x85\\x04p0:\\n(\\xa4\\x8a\\xea}\\xab\\xe1?\\x07\\xe9\\xad\\x02\\xbb[+\\x10v\\xe3q\\x03\\x18\\x07\\xa0\"\\xbbk_\\n\\xd8Gh\\x8f\\x15\\xba\\xc0v\\x83\\xfb\\xa2T\\x1a(\\xa6\\xc9GS\\xa3h\\xa9\\x0c\\x18Yg\\x00\\xa98,\\x0f\\xf3\\x15\\x87s![\\x99\\x01\\xc1\\x1e\\xea9\\xa2\\x8a\\x968\\xee`\\xcd\\xa5\\xdb\\xff\\x00ax\\x82_)>O6]\\xa4eY\\xbc\\xa0y\\xfcEiM\\xe3\\x1b\\xbf\\x0f\\xf8\\xc7\\xc1v\\xf0\\xacL\\x9a\\xc4\\xe6\\xdeb\\xe0\\x92\\x8ab-\\xf2\\xe0\\x81\\xd5GPh\\xa2\\xb0L\\xd9$z\\xcf\\xec\\xe3\\xf1\\x1a\\xff\\x00\\xc5\\xd7\\xde$\\xb6\\xb9[x\\xe3\\xd3.\\xc2E\\xe5)\\x04\\x829\\xceI\\xcfJ\\xeb~*\\xd8A\\xaai\\xfat\\x970\\xc7;\\xdb\\\\\\xf9\\x91\\x17PLm\\xb4\\x8c\\x8fC\\x83\\x8a(\\xaa\\xc3\\xb6\\xe9\\xa6\\xff\\x00\\xadB\\xb2JZ\\x15\\xac57kR\\x02F\\xbbFF\\x061\\xd2\\xb9\\x98>%\\xea\\x92k\\xcfh\\xef\\x1b\\xc2\\x1b\\x03r\\x92\\x7f<\\xd1En\\xf61D?\\x14\\xbc+\\xa5x\\xdbG\\x9a\\xc3X\\xd34\\xfdN\\xce\\xe62$\\x8a\\xea\\xddeF\\x04r0\\xc0\\xd7\\xc5\\x1e$\\xd6o?e\\x1f\\xda\\x1bG\\xf0\\xbf\\x85\\xae\\xee_\\xc2\\xde c\\xe6\\xe8\\xfa\\x8c\\x86\\xea\\xce\\xdb$g\\xc9V\\xe5:\\x9e3\\x8a(\\xac\\x9e\\xe8\\xb5\\xd4\\xf4_\\xdas\\xc5Z\\xbf\\xc0+\\x18.<3\\xaa^Z\\xc1\\xa8`Ig6\\xdb\\x8bd\\xcf\\xf7U\\xc1\\xdb\\xf4\\x07\\x1e\\xd5\\xe5\\xff\\x00\\t\\xff\\x00h?\\x15Y\\xea\\x88\\xe9\\xa8\\x1c\\xcaw\\xbeG\\x04\\x93\\x93\\xc7J(\\xadh\\xeeg-\\x8f\\xba\\x7f\\xe0\\x97\\x9e*\\xbf\\xf1\\xbd\\xaf\\xc4-GR\\xb8{\\x9b\\xb9u+e.{\\x01\\t\\x00\\x0fl\\x01_WQEo=\\xc8\\x87\\xc2\\x14QEIG\\xff\\xd9'\n"
     ]
    }
   ],
   "source": [
    "pic = df.EmployeePhoto[0]\n",
    "print(pic)"
   ]
  },
  {
   "cell_type": "markdown",
   "metadata": {},
   "source": [
    "Write to jpg file is easily done."
   ]
  },
  {
   "cell_type": "code",
   "execution_count": 12,
   "metadata": {},
   "outputs": [],
   "source": [
    "def save_img(binstring_img,name_img):\n",
    "    with open (name_img,\"wb\") as f: \n",
    "        f.write(binstring_img)"
   ]
  },
  {
   "cell_type": "code",
   "execution_count": 13,
   "metadata": {},
   "outputs": [],
   "source": [
    "save_img(pic,\"employee.jpg\")"
   ]
  },
  {
   "cell_type": "markdown",
   "metadata": {},
   "source": [
    "Show image "
   ]
  },
  {
   "cell_type": "code",
   "execution_count": 14,
   "metadata": {},
   "outputs": [],
   "source": [
    "image_stream = io.BytesIO(pic)"
   ]
  },
  {
   "cell_type": "code",
   "execution_count": 15,
   "metadata": {},
   "outputs": [],
   "source": [
    "image_file = Image.open(image_stream)"
   ]
  },
  {
   "cell_type": "code",
   "execution_count": 16,
   "metadata": {},
   "outputs": [
    {
     "data": {
      "image/png": "[encoded data removed]",
      "text/plain": [
       "<PIL.JpegImagePlugin.JpegImageFile image mode=RGB size=180x180 at 0x1FE1BA98308>"
      ]
     },
     "execution_count": 16,
     "metadata": {},
     "output_type": "execute_result"
    }
   ],
   "source": [
    "image_file"
   ]
  },
  {
   "cell_type": "code",
   "execution_count": 17,
   "metadata": {},
   "outputs": [
    {
     "data": {
      "text/plain": [
       "PIL.JpegImagePlugin.JpegImageFile"
      ]
     },
     "execution_count": 17,
     "metadata": {},
     "output_type": "execute_result"
    }
   ],
   "source": [
    "type(image_file)"
   ]
  },
  {
   "cell_type": "markdown",
   "metadata": {},
   "source": [
    "Can also write it to file using the save function"
   ]
  },
  {
   "cell_type": "code",
   "execution_count": 18,
   "metadata": {},
   "outputs": [],
   "source": [
    "image_file.save(\"employee-again.jpg\")"
   ]
  },
  {
   "cell_type": "code",
   "execution_count": 19,
   "metadata": {},
   "outputs": [
    {
     "data": {
      "text/plain": [
       "PIL.JpegImagePlugin.JpegImageFile"
      ]
     },
     "execution_count": 19,
     "metadata": {},
     "output_type": "execute_result"
    }
   ],
   "source": [
    "type(image_file)"
   ]
  },
  {
   "cell_type": "markdown",
   "metadata": {},
   "source": [
    "Who is this guy?"
   ]
  },
  {
   "cell_type": "code",
   "execution_count": 20,
   "metadata": {},
   "outputs": [
    {
     "data": {
      "text/plain": [
       "EmployeeKey                                                                             1\n",
       "ParentEmployeeKey                                                                      18\n",
       "EmployeeNationalIDAlternateKey                                                   14417807\n",
       "ParentEmployeeNationalIDAlternateKey                                                 None\n",
       "SalesTerritoryKey                                                                      11\n",
       "FirstName                                                                             Guy\n",
       "LastName                                                                          Gilbert\n",
       "MiddleName                                                                              R\n",
       "NameStyle                                                                           False\n",
       "Title                                                        Production Technician - WC60\n",
       "HireDate                                                                       2006-01-28\n",
       "BirthDate                                                                      1981-11-12\n",
       "LoginID                                                              adventure-works\\guy1\n",
       "EmailAddress                                                     guy1@adventure-works.com\n",
       "Phone                                                                        320-555-0195\n",
       "MaritalStatus                                                                           M\n",
       "EmergencyContactName                                                          Guy Gilbert\n",
       "EmergencyContactPhone                                                        320-555-0195\n",
       "SalariedFlag                                                                        False\n",
       "Gender                                                                                  M\n",
       "PayFrequency                                                                            1\n",
       "BaseRate                                                                            12.45\n",
       "VacationHours                                                                          21\n",
       "SickLeaveHours                                                                         30\n",
       "CurrentFlag                                                                          True\n",
       "SalesPersonFlag                                                                     False\n",
       "DepartmentName                                                                 Production\n",
       "StartDate                                                                      2006-01-28\n",
       "EndDate                                                                              None\n",
       "Status                                                                            Current\n",
       "EmployeePhoto                           b'\\xff\\xd8\\xff\\xe0\\x00\\x10JFIF\\x00\\x01\\x01\\x01...\n",
       "Name: 0, dtype: object"
      ]
     },
     "execution_count": 20,
     "metadata": {},
     "output_type": "execute_result"
    }
   ],
   "source": [
    "df.iloc[0]"
   ]
  },
  {
   "cell_type": "code",
   "execution_count": null,
   "metadata": {},
   "outputs": [],
   "source": []
  }
 ],
 "metadata": {
  "kernelspec": {
   "display_name": "Python 3",
   "language": "python",
   "name": "python3"
  },
  "language_info": {
   "codemirror_mode": {
    "name": "ipython",
    "version": 3
   },
   "file_extension": ".py",
   "mimetype": "text/x-python",
   "name": "python",
   "nbconvert_exporter": "python",
   "pygments_lexer": "ipython3",
   "version": "3.7.7"
  }
 },
 "nbformat": 4,
 "nbformat_minor": 4
}
